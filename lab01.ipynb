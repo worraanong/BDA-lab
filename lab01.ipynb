{
  "nbformat": 4,
  "nbformat_minor": 0,
  "metadata": {
    "colab": {
      "name": "lab01.ipynb",
      "provenance": [],
      "collapsed_sections": [
        "Ze0UcpwRMosr",
        "b6IlJKoZMotN",
        "6rgosZBwMotO",
        "skDreYwaMotS",
        "FJUd4BtLMotc",
        "pwhMGQ4tMotj",
        "yxKluCPVMotv",
        "UGtbcqEBMouF",
        "XoNr5LFSMouM",
        "FBUl-MC5MouZ",
        "BjGNuumBMouq",
        "inemTyuOMouu",
        "yTM5SquVMou4",
        "nCnfnUT_Mou_",
        "ez7bo-I2MovW",
        "2DRJW88GMovn",
        "TmLZrWiTMovw",
        "9t0ClFowMov2",
        "So9vlcuvMowH",
        "kgatL6YGMowf",
        "I2c8yaWKMowk",
        "S6InA2EyMowt",
        "dyNSPuV3Mow2",
        "CaSPVZsIMoxL"
      ],
      "include_colab_link": true
    },
    "kernelspec": {
      "display_name": "Python 3",
      "language": "python",
      "name": "python3"
    },
    "language_info": {
      "codemirror_mode": {
        "name": "ipython",
        "version": 3
      },
      "file_extension": ".py",
      "mimetype": "text/x-python",
      "name": "python",
      "nbconvert_exporter": "python",
      "pygments_lexer": "ipython3",
      "version": "3.8.3"
    }
  },
  "cells": [
    {
      "cell_type": "markdown",
      "metadata": {
        "id": "view-in-github",
        "colab_type": "text"
      },
      "source": [
        "<a href=\"https://colab.research.google.com/github/worraanong/BDA-lab/blob/main/lab01.ipynb\" target=\"_parent\"><img src=\"https://colab.research.google.com/assets/colab-badge.svg\" alt=\"Open In Colab\"/></a>"
      ]
    },
    {
      "cell_type": "markdown",
      "metadata": {
        "id": "kF9wFG4bMonS"
      },
      "source": [
        "<div class=\"alert alert-block alert-info\"><b></b>\n",
        "<h1><center> <font color='black'>  Practice Session - 01  </font></center></h1>\n",
        "<h2><center> <font color='black'> Introduction to Python</font></center></h3>\n",
        "</div>"
      ]
    },
    {
      "cell_type": "markdown",
      "metadata": {
        "id": "wvt4ACYmMonb"
      },
      "source": [
        "================================================================================================================"
      ]
    },
    {
      "cell_type": "markdown",
      "metadata": {
        "id": "O3RaLGGrRU0M"
      },
      "source": [
        "# Today's session agenda:\n",
        "1. **Python Introduction**\n",
        "2. **Data science tutorial (numpy, pandas, matplotlib)**"
      ]
    },
    {
      "cell_type": "markdown",
      "metadata": {
        "id": "S_iUr47MMonk"
      },
      "source": [
        "<div class=\"alert alert-block alert-success\">\n",
        "\n",
        "# Introduction to Python:\n",
        "\n",
        "1. **High level programming language**\n",
        "2. **Dynamic typing:** any type checking is happen during the run time instead of compile time.\n",
        "3. **Interpreted language** (live coding) it could be slower than **compiled** code\n",
        "4. Started since 1991, **Python 2:** 2000, **Python 3:** 2008, **Anaconda:** 1999\n",
        "</div>"
      ]
    },
    {
      "cell_type": "code",
      "metadata": {
        "id": "VLehHD7rMonp",
        "colab": {
          "base_uri": "https://localhost:8080/"
        },
        "outputId": "1fca25aa-96dc-4962-c1ce-af9b1d664864"
      },
      "source": [
        "# Dynamic typing:\n",
        "print('Welcome to Network Science course')\n"
      ],
      "execution_count": null,
      "outputs": [
        {
          "output_type": "stream",
          "text": [
            "Welcome to Network Science course\n"
          ],
          "name": "stdout"
        }
      ]
    },
    {
      "cell_type": "code",
      "metadata": {
        "id": "9XTRyH9-Mon9",
        "colab": {
          "base_uri": "https://localhost:8080/"
        },
        "outputId": "381b43cd-fbf2-40ad-ae16-4ce4bb55fd14"
      },
      "source": [
        "# Interpreted language:\n",
        "print('Welcome to Network Science course')\n"
      ],
      "execution_count": null,
      "outputs": [
        {
          "output_type": "stream",
          "text": [
            "Welcome to Network Science course\n"
          ],
          "name": "stdout"
        }
      ]
    },
    {
      "cell_type": "markdown",
      "metadata": {
        "id": "_1ImuU73MooJ"
      },
      "source": [
        "<div class=\"alert alert-block alert-success\">\n",
        "\n",
        "\n",
        "# What makes Python different or Why Python?:\n",
        "1. Python is growing very fast. \n",
        "2. According to [PYPL](http://pypl.github.io/PYPL.html) (PopularitY of Programming Language), Python has ranked the **first programming language worldwide.** With a 4% growth rate. [Most Popular Programming Languages 1965 - 2019](https://youtu.be/M0vBoBqqjr0?t=110)\n",
        "3. Python philosophy `PEP 20- the Zen of Python` [pep-0020](https://www.python.org/dev/peps/pep-0020/)\n",
        "\n",
        "\n",
        "# Python basics: \n",
        "1. You can find a very good tutorial about Python on [DataCamp](https://www.datacamp.com/) or [learnpython](https://www.learnpython.org/)\n",
        "\n",
        "\n",
        "# Install Python:\n",
        "1. **Win:** choco install python\n",
        "2. **Mac:** brew install python3\n",
        "3. **Linux:** yum <apt-get> install python3\n",
        "    \n",
        "    \n",
        "# Where to write Python code?:  **Let's try all these methods**\n",
        "1. Python command `REPL` (Read - Eval - Print - Loop), Interactive development\n",
        "2. `Ipython`: Robust interactive shell. \n",
        "3. `IDE` (Integrated development environment ) such as [Pycharm](https://www.jetbrains.com/pycharm/), or [Anaconda](https://www.anaconda.com/), [Anaconda_installation](https://docs.anaconda.com/anaconda/install/)\n",
        "4. Any text editor: `Notepad`, `Vim`, `Atom`\n",
        "5. You can use it online with [`google colab`](https://colab.research.google.com/notebooks/welcome.ipynb)\n",
        "</div>"
      ]
    },
    {
      "cell_type": "markdown",
      "metadata": {
        "id": "PJ0HRq0OMooO"
      },
      "source": [
        "# Python Basics: \n",
        "1. Data types.\n",
        "2. Basic Operators\n",
        "3. String Formatting\n",
        "4. Basic String Operations\n",
        "5. Conditions\n",
        "6. Loops\n",
        "7. Functions\n",
        "8. Classes and Objects\n",
        "9. Dictionaries\n",
        "10. Modules and Packages\n"
      ]
    },
    {
      "cell_type": "markdown",
      "metadata": {
        "id": "fsxy5ESiMooR"
      },
      "source": [
        "### 1. Data types:\n",
        "\n",
        "1. We have many different data types in any programming language, such as `Integer`, `float`, `double`, `boolean`, `String`, `Lists`, and `Tupel`.\n",
        "\n",
        "2. Python is completely `object-oriented`, and not `statically typed`. You do not need to declare variables before using them or declare their type. **Every variable in Python is an `object.`**\n",
        "\n",
        "3. In python we don't need to declare the types of the data before using it:\n",
        "    * **Python Integer:**    `x = 5`\n",
        "    * **Java Integer:**     `int x = 5`;\n",
        "    \n",
        "    \n",
        "    \n",
        "4. **How to declare a variable in Python?**\n",
        "    * use the following standard form:    \n",
        "    <center> <font color='green'> [variable name] [assignment operator] [value]</font></center>\n",
        "    <font color='red'> Ex: </font>\n",
        "    <center> <font color='black'> myVar = myValue </font></center>\n",
        "    <center> <font color='black'> x = 6 </font></center>\n",
        "\n",
        " "
      ]
    },
    {
      "cell_type": "code",
      "metadata": {
        "id": "Rv27T171MooU",
        "colab": {
          "base_uri": "https://localhost:8080/"
        },
        "outputId": "fdabc5a7-5e5b-4d02-e83c-930797e24023"
      },
      "source": [
        "# Integer\n",
        "x = 5\n",
        "y = 6\n",
        "print(f\"sum of two integers is: {x+y}\\n\") # this line will be illustrated later: it's just a print statement\n",
        "\n",
        "# Float/Double\n",
        "x = 5.1 # float\n",
        "y = 6   # int\n",
        "print(f\"sum of float and int: {x+y}\\n\")  # this line will be illustrated later: it's just a print statement\n",
        "\n",
        "# Boolean:\n",
        "x = True\n",
        "y = False\n",
        "\n",
        "if x:\n",
        "    print(\"X is True\\n\")\n",
        "else:\n",
        "    print(\" X is False\\n\")\n",
        "    \n",
        "    \n",
        "# Strings: \n",
        "x = \"Hello my string\" # or 'single'\n",
        "y = \"Welcome to Network Science course\"\n",
        "z = \"Welcom to Rajesh's course\"\n",
        "print(f\"my x string is: {x}\\n\")     # this line will be illustrated later: it's just a print statement\n",
        "print(f\"my y string is: {y}\\n\")     # this line will be illustrated later: it's just a print statement\n",
        "print(f\"my y string is: {z}\\n\")     # this line will be illustrated later: it's just a print statement\n",
        "\n",
        "\n",
        "# Lists:\n",
        "myList1 = [1,2,3,4]\n",
        "myList2 = [10, \"Network Science\", 1.2, True]\n",
        "\n",
        "print(f\"my first list is: {myList1}\")     # this line will be illustrated later: it's just a print statement\n",
        "print(f\"my second list is: {myList2}\\n\")  # this line will be illustrated later: it's just a print statement\n",
        "\n",
        "# Tuples:\n",
        "myTuple1 = (1,2,3,4)\n",
        "myTuple2 = (10, \"Network Science\", 1.2, True)\n",
        "\n",
        "print(f\"my first tuple is: {myTuple1}\")     # this line will be illustrated later: it's just a print statement\n",
        "print(f\"my second tuple is: {myTuple2}\")    # this line will be illustrated later: it's just a print statement\n",
        "\n"
      ],
      "execution_count": null,
      "outputs": [
        {
          "output_type": "stream",
          "text": [
            "sum of two integers is: 11\n",
            "\n",
            "sum of float and int: 11.1\n",
            "\n",
            "X is True\n",
            "\n",
            "my x string is: Hello my string\n",
            "\n",
            "my y string is: Welcome to Network Science course\n",
            "\n",
            "my y string is: Welcom to Rajesh's course\n",
            "\n",
            "my first list is: [1, 2, 3, 4]\n",
            "my second list is: [10, 'Network Science', 1.2, True]\n",
            "\n",
            "my first tuple is: (1, 2, 3, 4)\n",
            "my second tuple is: (10, 'Network Science', 1.2, True)\n"
          ],
          "name": "stdout"
        }
      ]
    },
    {
      "cell_type": "markdown",
      "metadata": {
        "id": "4vk2RmwhMooe"
      },
      "source": [
        "### 2. Basic Operators:\n",
        "\n",
        "2.1. **Arithmetic Operators:** Just as any other programming language, the `addition`, `subtraction`, `multiplication`, and `division` operators can be used with numbers."
      ]
    },
    {
      "cell_type": "code",
      "metadata": {
        "id": "sQe6YEJLMooi",
        "colab": {
          "base_uri": "https://localhost:8080/"
        },
        "outputId": "e68b7c1d-9f6a-4167-ef14-3af354bb50f6"
      },
      "source": [
        "# numbers\n",
        "mysum = 1 + 2.2  # addition\n",
        "mymul = 2 * 3  # multiplication\n",
        "mydivision = 6 / 3 # division\n",
        "\n",
        "print(\"Addition is: \", mysum)\n",
        "print(\"Multiplication is: \", mymul)\n",
        "print(\"Division is: \", mydivision,'\\n')\n",
        "\n",
        "# strings\n",
        "mystring1 = \" Welcome to\"\n",
        "mystring2 = \" Network Science course\"\n",
        "\n",
        "mystring = mystring1 + mystring2 #?\n",
        "\n",
        "print(\"Addition is: \", mystring)\n",
        "print(\"Multiplication is: \", mystring1 *2)\n",
        "#print(\"Division is: \", mystring1 /2,'\\n')\n",
        "\n",
        "\n",
        "# Lists\n",
        "even_numbers = [2,4,6,8]\n",
        "odd_numbers = [1,3,5,7]\n",
        "\n",
        "addition = odd_numbers + even_numbers #?\n",
        "#mul = odd_numbers * even_numbers\n",
        "#div = odd_numbers / even_numbers\n",
        "print(f\"\\naddition of two lists is: {addition}\")\n",
        "#print(f\"\\mul of two lists is: {mul}\")\n",
        "#print(f\"\\ndiv of two lists is: {div}\")\n",
        "\n",
        "\n",
        "# Just as in strings, \n",
        "# Python supports forming new lists with a repeating sequence using the multiplication operator:\n",
        "print(even_numbers * 2)\n",
        "\n",
        "\n",
        "\n"
      ],
      "execution_count": null,
      "outputs": [
        {
          "output_type": "stream",
          "text": [
            "Addition is:  3.2\n",
            "Multiplication is:  6\n",
            "Division is:  2.0 \n",
            "\n",
            "Addition is:   Welcome to Network Science course\n",
            "Multiplication is:   Welcome to Welcome to\n",
            "\n",
            "addition of two lists is: [1, 3, 5, 7, 2, 4, 6, 8]\n",
            "[2, 4, 6, 8, 2, 4, 6, 8]\n"
          ],
          "name": "stdout"
        }
      ]
    },
    {
      "cell_type": "code",
      "metadata": {
        "id": "df2GKpwcMoot",
        "colab": {
          "base_uri": "https://localhost:8080/"
        },
        "outputId": "1f26ae1a-1c69-477a-8298-058438b46ce1"
      },
      "source": [
        "# Try to predict what the answer will be. Does python follow the order of operations?\n",
        "number = 1 + 2 * 3 / 2.0\n",
        "print(number)\n"
      ],
      "execution_count": null,
      "outputs": [
        {
          "output_type": "stream",
          "text": [
            "4.0\n"
          ],
          "name": "stdout"
        }
      ]
    },
    {
      "cell_type": "code",
      "metadata": {
        "id": "L_eAHRG4Moo1",
        "colab": {
          "base_uri": "https://localhost:8080/"
        },
        "outputId": "64da965c-15ef-4e7e-90c0-eb41ebfb39bb"
      },
      "source": [
        "# Another operator available is the (modulus) modulo $(%)$ operator, \n",
        "# which returns the integer remainder of the division. dividend % divisor = remainder.\n",
        "\n",
        "remainder = 11 % 3\n",
        "print(f\" the remainder is: {remainder}\")\n",
        "\n",
        "# Using two multiplication symbols makes a power relationship.\n",
        "\n",
        "squared = 7 ** 2\n",
        "cubic = 2 ** 3\n",
        "print(f\" the squared is: {squared}\")\n",
        "print(f\" the cubic is: {cubic}\")"
      ],
      "execution_count": null,
      "outputs": [
        {
          "output_type": "stream",
          "text": [
            " the remainder is: 2\n",
            " the squared is: 49\n",
            " the cubic is: 8\n"
          ],
          "name": "stdout"
        }
      ]
    },
    {
      "cell_type": "markdown",
      "metadata": {
        "id": "8Ww0lRV4Moo-"
      },
      "source": [
        "### 3. String Formatting:\n",
        "1. Python uses `C-style` string formatting to create new formatted strings. The `\"%\"` operator is used to format a set of variables enclosed in a **\" tuple\"** (a fixed-size list), together with a format string, which contains normal text together with \"argument specifiers\", special symbols like `\"%s\"` and `\"%d\"`.\n",
        "\n",
        "2. we can use `format()`"
      ]
    },
    {
      "cell_type": "code",
      "metadata": {
        "id": "QXgB9C50Moo_",
        "colab": {
          "base_uri": "https://localhost:8080/"
        },
        "outputId": "841d67f8-6e05-4491-874e-2b9ef4fd8dcb"
      },
      "source": [
        "# Let's say you have a variable called \"name\" with your user name in it, \n",
        "# and you would then like to print(out a greeting to that user.)\n",
        "\n",
        "# This prints out \"Hello, John!\"\n",
        "name = \"John\" # string dt\n",
        "age = 23 # int dt\n",
        "\n",
        "#print(\"hello\")\n",
        "print(\"Hello, %s, age: %d\" % (name, age)) # \n",
        "\n",
        "# To use two or more argument specifiers, use a tuple (parentheses):\n",
        "# This prints out \"John is 23 years old.\"\n",
        "name = \"John\"\n",
        "age = 23\n",
        "print(\"%s is %d years old.\" % (name, age))\n",
        "\n",
        "# using format() starting from python3.6 \n",
        "print(\"\\nUsing format()\")\n",
        "print(f\"{name} is {age} years old\")"
      ],
      "execution_count": null,
      "outputs": [
        {
          "output_type": "stream",
          "text": [
            "Hello, John, age: 23\n",
            "John is 23 years old.\n",
            "\n",
            "Using format()\n",
            "John is 23 years old\n"
          ],
          "name": "stdout"
        }
      ]
    },
    {
      "cell_type": "markdown",
      "metadata": {
        "id": "5g2VtLJqMopI"
      },
      "source": [
        "# Ex: 1\n",
        "\n",
        "1. You will need to write a format string that prints out the data using the following syntax: **Hello `John` `Doe`. Your current balance is `$53.44$`.**"
      ]
    },
    {
      "cell_type": "code",
      "metadata": {
        "id": "9btSvhpUMopK"
      },
      "source": [
        "# sol 1\n",
        "fname = \"John\"      # this my firs name  # x = \"john\"\n",
        "lname = \"Doe\"     #  this my last name   # y = \"doe\"\n",
        "balance = 53.44   # this how i earn      # z = 53.44\n",
        "\n",
        "\n",
        "## TODO\n",
        "# print Hello John Doe. Your current balance is $53.44.\n",
        "print(\"\")\n"
      ],
      "execution_count": null,
      "outputs": []
    },
    {
      "cell_type": "markdown",
      "metadata": {
        "id": "NVneHKEpMopS"
      },
      "source": [
        "### 4. Basic String Operations: \n",
        "\n",
        "1. Operations: `len()`, `count()`, `index()`, `startswith()`, `endswith()`\n",
        "\n",
        "1. Strings are bits of text. They can be defined as anything between quotes.\n",
        "\n",
        "2. As you can see, the first thing you learned was printing a simple sentence. This sentence was stored by Python as a string. However, instead of immediately printing strings out, we will explore the various things you can do to them. You can also use single quotes to assign a string. However, you will face problems if the value to be assigned itself contains single quotes. For example to assign the string in these brackets (single quotes are ' ') you need to use double quotes only like this\n",
        "\n",
        "\n"
      ]
    },
    {
      "cell_type": "code",
      "metadata": {
        "id": "VsLoS4BTiSw2",
        "colab": {
          "base_uri": "https://localhost:8080/"
        },
        "outputId": "b1d27a03-f03f-4036-c8a8-13c402dc7ed8"
      },
      "source": [
        "help(print)"
      ],
      "execution_count": null,
      "outputs": [
        {
          "output_type": "stream",
          "text": [
            "Help on built-in function print in module builtins:\n",
            "\n",
            "print(...)\n",
            "    print(value, ..., sep=' ', end='\\n', file=sys.stdout, flush=False)\n",
            "    \n",
            "    Prints the values to a stream, or to sys.stdout by default.\n",
            "    Optional keyword arguments:\n",
            "    file:  a file-like object (stream); defaults to the current sys.stdout.\n",
            "    sep:   string inserted between values, default a space.\n",
            "    end:   string appended after the last value, default a newline.\n",
            "    flush: whether to forcibly flush the stream.\n",
            "\n"
          ],
          "name": "stdout"
        }
      ]
    },
    {
      "cell_type": "code",
      "metadata": {
        "id": "UN1WicpD6Exo"
      },
      "source": [
        "#help(str)\n",
        "x = 2\n",
        "x?"
      ],
      "execution_count": null,
      "outputs": []
    },
    {
      "cell_type": "code",
      "metadata": {
        "id": "Xynr_ashMopW",
        "colab": {
          "base_uri": "https://localhost:8080/"
        },
        "outputId": "715f7f8e-8579-460c-98bc-f029a1a313bc"
      },
      "source": [
        "astring = \"Hello world!\"\n",
        "print(astring)\n",
        "help(astring)"
      ],
      "execution_count": null,
      "outputs": [
        {
          "output_type": "stream",
          "text": [
            "Hello world!\n",
            "No Python documentation found for 'Hello world!'.\n",
            "Use help() to get the interactive help utility.\n",
            "Use help(str) for help on the str class.\n",
            "\n"
          ],
          "name": "stdout"
        }
      ]
    },
    {
      "cell_type": "code",
      "metadata": {
        "id": "N33tAzx3Mope",
        "colab": {
          "base_uri": "https://localhost:8080/"
        },
        "outputId": "a9c87a66-391c-4649-a91a-a740f9bd94f1"
      },
      "source": [
        "# len()\n",
        "astring = \"Hello world!\"\n",
        "astring2 = 'Hello world!'\n",
        "\n",
        "astring = \"Hello world!\"\n",
        "print(\"single quotes are ' '\")\n",
        "\n",
        "# That prints out 12, because \"Hello world!\" is 12 characters long, including punctuation and spaces.\n",
        "print(f\"length of our string is: {len(astring)}\")\n"
      ],
      "execution_count": null,
      "outputs": [
        {
          "output_type": "stream",
          "text": [
            "single quotes are ' '\n",
            "length of our string is: 12\n"
          ],
          "name": "stdout"
        }
      ]
    },
    {
      "cell_type": "code",
      "metadata": {
        "id": "YFekRbNFMopk",
        "colab": {
          "base_uri": "https://localhost:8080/"
        },
        "outputId": "f7711fe4-3f58-4b33-d46b-95371af80f92"
      },
      "source": [
        "# index()\n",
        "print(\"hello\")\n",
        "\n",
        "\n",
        "astring = \"Hello world!\"\n",
        "print(f\"Index of letter 'o' is: {astring.index('o')}\") # index(astring)\n",
        "\n",
        "\n",
        "# That prints out 4, because the location of the first occurrence of the letter \"o\" is 4 characters \n",
        "# away from the first character.\n",
        "# Notice how there are actually two o's in the phrase - this method only recognizes the first.\n",
        "\n",
        "# But why didn't print out 5? Isn't \"o\" the fifth character in the string? To make things more simple,\n",
        "# Python (and most other programming languages) starts counting from index 0 instead of 1. So the index of \"o\" is 4.\n"
      ],
      "execution_count": null,
      "outputs": [
        {
          "output_type": "stream",
          "text": [
            "hello\n",
            "Index of letter 'o' is: 4\n"
          ],
          "name": "stdout"
        }
      ]
    },
    {
      "cell_type": "code",
      "metadata": {
        "id": "bleJHlb-Mopu",
        "colab": {
          "base_uri": "https://localhost:8080/"
        },
        "outputId": "becdcc75-698e-4275-ae8e-6af05aadda74"
      },
      "source": [
        "# count()\n",
        "# This counts the number of l's in the string. Therefore, it should print 3.\n",
        "\n",
        "\n",
        "astring = \"Hello world!\"\n",
        "print(f\"count of letter 'l' occurence is: {astring.count('l')}\")"
      ],
      "execution_count": null,
      "outputs": [
        {
          "output_type": "stream",
          "text": [
            "count of letter 'l' occurence is: 3\n"
          ],
          "name": "stdout"
        }
      ]
    },
    {
      "cell_type": "markdown",
      "metadata": {
        "id": "eyEbio-6Mop3"
      },
      "source": [
        "4.1 access elements of string or lists using the general form `[start:stop:step]`"
      ]
    },
    {
      "cell_type": "code",
      "metadata": {
        "id": "Uzg0IghRMoqN",
        "colab": {
          "base_uri": "https://localhost:8080/"
        },
        "outputId": "057a6508-c7f1-4598-b65f-53a36c338709"
      },
      "source": [
        "astring = \"Hello world!\" # [1,2,3,4,5]\n",
        "print(astring[0:7:2]) # [start:end-1:step]\n",
        "# [start : stop-1: step] >>> [0:6:2]"
      ],
      "execution_count": null,
      "outputs": [
        {
          "output_type": "stream",
          "text": [
            "Hlow\n"
          ],
          "name": "stdout"
        }
      ]
    },
    {
      "cell_type": "code",
      "metadata": {
        "id": "nnnsMnDsMoqV",
        "colab": {
          "base_uri": "https://localhost:8080/"
        },
        "outputId": "5c0df4ba-7343-4736-8b1b-d10bd6690c08"
      },
      "source": [
        "astring = \"Hello world!\"    # reverse direction starts at index -1 not zero!\n",
        "print(astring[-2])"
      ],
      "execution_count": null,
      "outputs": [
        {
          "output_type": "stream",
          "text": [
            "d\n"
          ],
          "name": "stdout"
        }
      ]
    },
    {
      "cell_type": "code",
      "metadata": {
        "id": "3uqtyz6l6B5B",
        "colab": {
          "base_uri": "https://localhost:8080/"
        },
        "outputId": "f2216ce9-7371-4541-de55-0faf3e1b45d5"
      },
      "source": [
        "print(astring[2])"
      ],
      "execution_count": null,
      "outputs": [
        {
          "output_type": "stream",
          "text": [
            "l\n"
          ],
          "name": "stdout"
        }
      ]
    },
    {
      "cell_type": "markdown",
      "metadata": {
        "id": "Yx5PSxveMoqb"
      },
      "source": [
        "# Ex2: \n",
        "2. The target of this exercise is to use the general form is `[start:stop:step]` to reverse a string, for example, `Hello world!` to `!dlrow olleH`"
      ]
    },
    {
      "cell_type": "code",
      "metadata": {
        "id": "0xKOfCeEMoqc"
      },
      "source": [
        "astring = \"Hello world!\"\n",
        "\n",
        "# TO DO\n",
        "# fill the {}\n",
        "# print(f\"The original word is: {...}\\nand the reversed word is: {...}\")\n"
      ],
      "execution_count": null,
      "outputs": []
    },
    {
      "cell_type": "code",
      "metadata": {
        "id": "WXrWfYbEyh4D"
      },
      "source": [
        ""
      ],
      "execution_count": null,
      "outputs": []
    },
    {
      "cell_type": "code",
      "metadata": {
        "id": "ih3XYVWZMoqj",
        "colab": {
          "base_uri": "https://localhost:8080/"
        },
        "outputId": "3a44a5db-bb2b-4097-de23-d0ed21aeceba"
      },
      "source": [
        "# split()\n",
        "# Splitting: one of the most important functions in our Network Science course.\n",
        "astring = \"Hello;world!\"\n",
        "splitted_string = astring.split(\";\") # ; or , or tab, etc.\n",
        "print(splitted_string)"
      ],
      "execution_count": null,
      "outputs": [
        {
          "output_type": "stream",
          "text": [
            "['Hello', 'world!']\n"
          ],
          "name": "stdout"
        }
      ]
    },
    {
      "cell_type": "markdown",
      "metadata": {
        "id": "9XkGyipmMoqp"
      },
      "source": [
        "### 5. Condition:\n",
        "\n",
        "1. Python uses boolean variables to evaluate (`True`, and `False`) conditions. The boolean values True and False are returned when an expression is compared or evaluated. For example:\n",
        "\n",
        "    * Notice that variable assignment is done using a single equals operator `\"=\"`, whereas comparison between two variables is done using the double equals operator `\"==\"`. The \"not equals\" operator is marked as `\"!=\"`.\n",
        "    \n",
        "\n",
        "2. **Boolean operators**\n",
        "    \n",
        "    * The `\"and\"`, `\"or\"`, `not`, and `in` boolean operators allow building complex boolean expressions, for example:"
      ]
    },
    {
      "cell_type": "code",
      "metadata": {
        "id": "k0U19yFsMoqs",
        "colab": {
          "base_uri": "https://localhost:8080/"
        },
        "outputId": "ef12ba87-7613-4f9b-8233-9ff97feedd6f"
      },
      "source": [
        "x = 2\n",
        "print(x == 2) # prints out True\n",
        "print(x == 3) # prints out False\n",
        "print(x < 3) # prints out True\n",
        "print(x != 3) # prints out True"
      ],
      "execution_count": null,
      "outputs": [
        {
          "output_type": "stream",
          "text": [
            "True\n",
            "False\n",
            "True\n",
            "True\n"
          ],
          "name": "stdout"
        }
      ]
    },
    {
      "cell_type": "code",
      "metadata": {
        "id": "7EB8n51DMoq0",
        "colab": {
          "base_uri": "https://localhost:8080/"
        },
        "outputId": "26bae5ec-0da2-4698-eb6c-4ac5e802ec1e"
      },
      "source": [
        "# and & or\n",
        "x =5\n",
        "y =3\n",
        "\n",
        "if x == 3 and y==2:\n",
        "    #print(\"hello\")\n",
        "    #We started to write from here\n",
        "    #print(\"hello\")\n",
        "    print(\"X, and Y are True\")\n",
        "elif x==3  or y==1:\n",
        "    print(\"X or Y is True\")\n",
        "else:\n",
        "    print(\"X, and Y are false\")"
      ],
      "execution_count": null,
      "outputs": [
        {
          "output_type": "stream",
          "text": [
            "X, and Y are flase\n"
          ],
          "name": "stdout"
        }
      ]
    },
    {
      "cell_type": "code",
      "metadata": {
        "id": "FffA0JXwMoq4",
        "colab": {
          "base_uri": "https://localhost:8080/"
        },
        "outputId": "dce2c5c0-cc29-4cd5-a680-984df2f9adeb"
      },
      "source": [
        "# IN\n",
        "name = \"John\"\n",
        "\n",
        "mylist = [\"John\", \"Rick\"]\n",
        "\n",
        "if name in mylist:\n",
        "    print(\"Your name is either John or Rick.\")"
      ],
      "execution_count": null,
      "outputs": [
        {
          "output_type": "stream",
          "text": [
            "Your name is either John or Rick.\n"
          ],
          "name": "stdout"
        }
      ]
    },
    {
      "cell_type": "markdown",
      "metadata": {
        "id": "I4XaWCcgMorA"
      },
      "source": [
        "# Note: \n",
        "* Python uses `indentation` to define code blocks, instead of brackets. The standard Python indentation is `4 spaces`, although `tabs` and any other space size will work, as long as it is `consistent`. Notice that code blocks do not need any termination."
      ]
    },
    {
      "cell_type": "code",
      "metadata": {
        "id": "_tQ1BW7yMorC"
      },
      "source": [
        "# Code block for If stmt\n",
        "statement = False\n",
        "another_statement = True\n",
        "\n",
        "if statement is True:\n",
        "    # do something\n",
        "    pass # python keyword that do nothing\n",
        "elif another_statement is True: # else if\n",
        "    # do something else\n",
        "    pass\n",
        "else:\n",
        "    # do another thing\n",
        "    pass"
      ],
      "execution_count": null,
      "outputs": []
    },
    {
      "cell_type": "markdown",
      "metadata": {
        "id": "6mwF3mCZMorH"
      },
      "source": [
        "**bold text**### 6. Loops:\n",
        "1. There are two types of loops in Python, for and while:\n",
        "    * For Loop\n",
        "    * While Loop"
      ]
    },
    {
      "cell_type": "code",
      "metadata": {
        "id": "yl4PM4L0MorJ",
        "colab": {
          "base_uri": "https://localhost:8080/"
        },
        "outputId": "66dd6517-b27f-41eb-b596-59a350daafaa"
      },
      "source": [
        "# For\n",
        "numbers = [2, 3, 5, 7]\n",
        "for number in numbers:\n",
        "    print(number)\n",
        "    \n",
        "    \n",
        "# For loops can iterate over a sequence of numbers using the `\"range\"` function.\n",
        "# Note that the range function is `zero based index`\n",
        "\n",
        "print('============\\n')\n",
        "# Prints out the numbers 0,1,2,3,4\n",
        "for x in range(5): #[start: stop: step] >> [0:5]\n",
        "    print(x)\n",
        "\n",
        "# Prints out 3,4,5\n",
        "print('============\\n')\n",
        "for x in range(3, 6):\n",
        "    print(x)\n",
        "\n",
        "print('============\\n')\n",
        "# Prints out 3,5,7\n",
        "for x in range(3, 8, 2):\n",
        "    print(x)"
      ],
      "execution_count": null,
      "outputs": [
        {
          "output_type": "stream",
          "text": [
            "2\n",
            "3\n",
            "5\n",
            "7\n",
            "============\n",
            "\n",
            "0\n",
            "1\n",
            "2\n",
            "3\n",
            "4\n",
            "============\n",
            "\n",
            "3\n",
            "4\n",
            "5\n",
            "============\n",
            "\n",
            "3\n",
            "5\n",
            "7\n"
          ],
          "name": "stdout"
        }
      ]
    },
    {
      "cell_type": "code",
      "metadata": {
        "id": "odVfQgDdMorP",
        "colab": {
          "base_uri": "https://localhost:8080/"
        },
        "outputId": "eef8be8d-156b-4db6-9a74-729ed7fee093"
      },
      "source": [
        "# Prints out 0,1,2,3,4\n",
        "\n",
        "count = 0\n",
        "while count < 5:\n",
        "    print(count)\n",
        "    count += 1  # This is the same as count = count + 1"
      ],
      "execution_count": null,
      "outputs": [
        {
          "output_type": "stream",
          "text": [
            "0\n",
            "1\n",
            "2\n",
            "3\n",
            "4\n"
          ],
          "name": "stdout"
        }
      ]
    },
    {
      "cell_type": "code",
      "metadata": {
        "colab": {
          "base_uri": "https://localhost:8080/"
        },
        "id": "mMgc7putvYA5",
        "outputId": "d7593e2e-40a2-4afb-a08f-173d40f6ed98"
      },
      "source": [
        "count"
      ],
      "execution_count": null,
      "outputs": [
        {
          "output_type": "execute_result",
          "data": {
            "text/plain": [
              "5"
            ]
          },
          "metadata": {
            "tags": []
          },
          "execution_count": 31
        }
      ]
    },
    {
      "cell_type": "markdown",
      "metadata": {
        "id": "DJp8iCOuMorW"
      },
      "source": [
        "* `\"break\"` and `\"continue\"` statements:\n",
        "\n",
        "    1. `break` is used to exit a `for` or a `while` loop, whereas `continue` is used to `skip` the current block, and return to the `for` or `while` statement. A few examples:"
      ]
    },
    {
      "cell_type": "code",
      "metadata": {
        "id": "pCFw9f8SMorX",
        "colab": {
          "base_uri": "https://localhost:8080/"
        },
        "outputId": "5f2b4713-a8d2-48d4-831f-cd40aa082144"
      },
      "source": [
        "# Prints out 0,1,2,3,4\n",
        "\n",
        "count = 0\n",
        "while True:\n",
        "    print(count)\n",
        "    count += 1 # count = count + 1\n",
        "    if count >= 5:\n",
        "        break # exit form the loop\n",
        "\n",
        "print('=============\\n')\n",
        "# Prints out only odd numbers - 1,3,5,7,9\n",
        "for x in range(10): \n",
        "    # Check if x is even\n",
        "    if x % 2 == 0:\n",
        "        continue # skip this iteration\n",
        "    print(x)"
      ],
      "execution_count": null,
      "outputs": [
        {
          "output_type": "stream",
          "text": [
            "0\n",
            "1\n",
            "2\n",
            "3\n",
            "4\n",
            "=============\n",
            "\n",
            "1\n",
            "3\n",
            "5\n",
            "7\n",
            "9\n"
          ],
          "name": "stdout"
        }
      ]
    },
    {
      "cell_type": "markdown",
      "metadata": {
        "id": "Wpfy2wnHMorc"
      },
      "source": [
        "# Ex 3:\n",
        "\n",
        "1. Loop through and print out all even numbers from the numbers list in the same order they are received. Don't print any numbers that come after 237 in the sequence."
      ]
    },
    {
      "cell_type": "code",
      "metadata": {
        "id": "0M068TGyMore"
      },
      "source": [
        "numbers = [\n",
        "    951, 402, 984, 651, 360, 69, 408, 319, 601, 485, 980, 507, 725, 547, 544,\n",
        "    615, 83, 165, 141, 501, 263, 617, 865, 575, 219, 390, 984, 592, 236, 105, 942, 941,\n",
        "    386, 462, 47, 418, 907, 344, 236, 375, 823, 566, 597, 978, 328, 615, 953, 345,\n",
        "    399, 162, 758, 219, 918, 237, 412, 566, 826, 248, 866, 950, 626, 949, 687, 217,\n",
        "    815, 67, 104, 58, 512, 24, 892, 894, 767, 553, 81, 379, 843, 831, 445, 742, 717,\n",
        "    958, 609, 842, 451, 688, 753, 854, 685, 93, 857, 440, 380, 126, 721, 328, 753, 470,\n",
        "    743, 527\n",
        "]\n",
        "\n",
        "# your code goes here\n",
        "\n"
      ],
      "execution_count": null,
      "outputs": []
    },
    {
      "cell_type": "markdown",
      "metadata": {
        "id": "4y4shH-JMorj"
      },
      "source": [
        "### 7. Functions: \n",
        "\n",
        "#### What are Functions?\n",
        "\n",
        "Functions are a convenient way to divide your code into useful `blocks`, allowing us to `order` our code, make it more `readable`, `reuse` it and `save some time`. Also, functions are a key way to define `interfaces` so programmers can share their code.\n",
        "\n",
        "\n",
        "#### How do you write functions in Python?\n",
        "\n",
        "* **Functions** in python are defined using the block keyword `\"def\"`, followed with the `function's name` as the `block's name`. For example:\n",
        "   \n"
      ]
    },
    {
      "cell_type": "code",
      "metadata": {
        "id": "lkXZoT8tjaQX"
      },
      "source": [
        "# python_keyword  function_name():\n",
        "      # tab or 4 spaces\n",
        "\n"
      ],
      "execution_count": null,
      "outputs": []
    },
    {
      "cell_type": "code",
      "metadata": {
        "id": "_5pcqDbwMorl"
      },
      "source": [
        "def my_function():\n",
        "    print(\"Hello From My Function!\")"
      ],
      "execution_count": null,
      "outputs": []
    },
    {
      "cell_type": "markdown",
      "metadata": {
        "id": "Pt9Po-6HMorp"
      },
      "source": [
        "#### How do you call functions in Python?\n",
        "\n",
        "* Simply write the` function's name followed by ()`, placing any required `arguments` within the brackets. For example, let's call the functions written above (in the previous example):"
      ]
    },
    {
      "cell_type": "code",
      "metadata": {
        "id": "iJRHLwFCMorq",
        "colab": {
          "base_uri": "https://localhost:8080/"
        },
        "outputId": "114e2bce-c1ae-4e05-cc04-423c2201f788"
      },
      "source": [
        "my_function()"
      ],
      "execution_count": null,
      "outputs": [
        {
          "output_type": "stream",
          "text": [
            "Hello From My Function!\n"
          ],
          "name": "stdout"
        }
      ]
    },
    {
      "cell_type": "code",
      "metadata": {
        "id": "Zbg1ur3rMorw"
      },
      "source": [
        "# Functions may also receive arguments (variables passed from the caller to the function). For example:\n",
        "def my_function_with_args(username, greeting):\n",
        "    mystring = \"Hello, %s , From My Function!, I wish you %s\"%(username, greeting)\n",
        "    return mystring\n",
        "    #print(\"Hello, %s , From My Function!, I wish you %s\"%(username, greeting))"
      ],
      "execution_count": null,
      "outputs": []
    },
    {
      "cell_type": "code",
      "metadata": {
        "id": "8UVtRYmqMor2",
        "colab": {
          "base_uri": "https://localhost:8080/"
        },
        "outputId": "46a39c7d-baad-4ef7-b038-1201ca013f48"
      },
      "source": [
        "another_string = my_function_with_args(\"Network Science\", \"HBD\")\n",
        "print(another_string)"
      ],
      "execution_count": null,
      "outputs": [
        {
          "output_type": "stream",
          "text": [
            "Hello, Network Science , From My Function!, I wish you HBD\n"
          ],
          "name": "stdout"
        }
      ]
    },
    {
      "cell_type": "markdown",
      "metadata": {
        "id": "UHbcY5NDMor6"
      },
      "source": [
        "# Ex 4: \n",
        "1. Create a function to add two numbers and return the addition, and multiplication"
      ]
    },
    {
      "cell_type": "code",
      "metadata": {
        "id": "Lf7-1xcmMor8"
      },
      "source": [
        "# TODO\n",
        "# code goes here\n"
      ],
      "execution_count": null,
      "outputs": []
    },
    {
      "cell_type": "code",
      "metadata": {
        "id": "MHSNr_tQMor_"
      },
      "source": [
        ""
      ],
      "execution_count": null,
      "outputs": []
    },
    {
      "cell_type": "markdown",
      "metadata": {
        "id": "ja3T20Q-MosC"
      },
      "source": [
        "### 8. Classes and Objects: \n",
        "\n",
        "\n",
        "#### Class :\n",
        "\n",
        "* `Class` is a set or category of things having some property or attribute in common and differentiated from others by kind, type, or quality.\n",
        "\n",
        "* In technical terms we can say that class is a blue print for individual objects with exact behaviour.\n",
        "\n",
        "\n",
        "#### Object :\n",
        "\n",
        "* `object` is one of instances of the class. which can perform the functionalities which are defined in the class.\n",
        "\n",
        "\n",
        "#### self :\n",
        "\n",
        "* `self` represents the instance of the class. By using the `self` keyword we can access the attributes and methods of the class in python.\n",
        "\n",
        "\n",
        "#### __init__ :\n",
        "\n",
        "* `\"__init__\"` is a reseved method in python classes. It is known as a `constructor` in object oriented concepts. This method called when an object is created from the class and it allow the class to initialize the attributes of a class.\n",
        "How can we use  \"__init__ \" ?\n",
        "\n",
        "Let's consider that you are creating a NFS game. for that we should have a car. Car can have `attributes or variables` like \"color\", \"company\", \"speed_limit\" etc. and `methods or Operations or functions` like \"change_gear\", \"start\", \"accelarate\", \"move\" etc.\n",
        "\n"
      ]
    },
    {
      "cell_type": "code",
      "metadata": {
        "id": "BgE1S1QwMosH"
      },
      "source": [
        "class Car(object):\n",
        "    \"\"\"\n",
        "        blueprint for car\n",
        "    \"\"\"\n",
        "    # each instance (self) of the class has 4 attributes\n",
        "    \n",
        "    # initialize the attributes of a class\n",
        "    def __init__(self, model, color, company, speed_limit):\n",
        "        self.color = color\n",
        "        self.company = company\n",
        "        self.speed_limit = speed_limit\n",
        "        self.model = model\n",
        "        \n",
        "        \n",
        "    # different functions\n",
        "    def start(self):\n",
        "        print(\"started\")\n",
        "\n",
        "    def stop(self):\n",
        "        print(\"stopped\")\n",
        "\n",
        "    def accelarate(self):\n",
        "        print(\"accelarating...\")\n",
        "        \"accelarator functionality here\"\n",
        "\n",
        "    def change_gear(self, gear_type):\n",
        "        print(\"gear changed\")\n",
        "        \" gear related functionality here\""
      ],
      "execution_count": null,
      "outputs": []
    },
    {
      "cell_type": "code",
      "metadata": {
        "id": "_PY8mgKFMosL",
        "colab": {
          "base_uri": "https://localhost:8080/"
        },
        "outputId": "9bc56c80-1f6d-4a70-9a8b-76301b025e74"
      },
      "source": [
        "# Lets try to create different types of cars\n",
        "new_car1 = Car(model=\"A4\", color=\"red\", company=\"xyz\", speed_limit=100)\n",
        "new_car1.accelarate()\n",
        "new_car1.change_gear('xyz')\n",
        "\n",
        "print(\"\\n2nd\\n\")\n",
        "# Lets try to create different types of cars\n",
        "new_car2 = Car(model=\"A5\", color=\"blue\", company=\"k8\", speed_limit=90)\n",
        "new_car2.accelarate()\n",
        "new_car2.change_gear('xyz')"
      ],
      "execution_count": null,
      "outputs": [
        {
          "output_type": "stream",
          "text": [
            "accelarating...\n",
            "gear changed\n",
            "\n",
            "2nd\n",
            "\n",
            "accelarating...\n",
            "gear changed\n"
          ],
          "name": "stdout"
        }
      ]
    },
    {
      "cell_type": "markdown",
      "metadata": {
        "id": "y0uuMoyDMosP"
      },
      "source": [
        "# Dictionaries: \n",
        "\n",
        "* A `dictionary` is a data type similar to `arrays`, but works with **keys and values** instead of indexes. Each value stored in a dictionary can be accessed using a key, which is any type of object (a string, a number, a list, etc.) instead of using its index to address it.\n",
        "\n",
        "* `For example`, a database of phone numbers could be stored using a dictionary like this:\n"
      ]
    },
    {
      "cell_type": "code",
      "metadata": {
        "id": "sDr0SrM-MosR",
        "colab": {
          "base_uri": "https://localhost:8080/"
        },
        "outputId": "28ca3a39-18eb-4ee8-b6d0-bcbd7ca49c68"
      },
      "source": [
        "# empty dict\n",
        "phonebook = {}\n",
        "\n",
        "\n",
        "#phonebook['Key'] = Value\n",
        "phonebook[\"John\"] = 938477566\n",
        "phonebook[\"Jack\"] = 938377264\n",
        "phonebook[\"Jill\"] = 947662781\n",
        "\n",
        "\n",
        "print(f\"my dict is: {phonebook}\\n\")\n",
        "\n",
        "\n",
        "for k,v in phonebook.items():\n",
        "    print(f\"key name is: {k}, and phone number value is: {v}\")\n",
        "   "
      ],
      "execution_count": null,
      "outputs": [
        {
          "output_type": "stream",
          "text": [
            "my dict is: {'John': 938477566, 'Jack': 938377264, 'Jill': 947662781}\n",
            "\n",
            "key name is: John, and phone number value is: 938477566\n",
            "key name is: Jack, and phone number value is: 938377264\n",
            "key name is: Jill, and phone number value is: 947662781\n"
          ],
          "name": "stdout"
        }
      ]
    },
    {
      "cell_type": "code",
      "metadata": {
        "id": "t-jairNeMosT",
        "colab": {
          "base_uri": "https://localhost:8080/"
        },
        "outputId": "3625c71c-91f5-4f52-d387-49c2e15da445"
      },
      "source": [
        "# Alternatively, a dictionary can be initialized with the same values in the following notation:\n",
        "\n",
        "phonebook = {\n",
        "    \"John\" : 938477566,\n",
        "    \"Jack\" : 938377264,\n",
        "    \"Jill\" : 947662781\n",
        "}\n",
        "print(phonebook)\n",
        "\n",
        "# removing key and value\n",
        "phonebook = {\n",
        "   \"John\" : 938477566,\n",
        "   \"Jack\" : 938377264,\n",
        "   \"Jill\" : 947662781\n",
        "}\n",
        "\n",
        "del phonebook[\"John\"]\n",
        "\n",
        "print(phonebook)"
      ],
      "execution_count": null,
      "outputs": [
        {
          "output_type": "stream",
          "text": [
            "{'John': 938477566, 'Jack': 938377264, 'Jill': 947662781}\n",
            "{'Jack': 938377264, 'Jill': 947662781}\n"
          ],
          "name": "stdout"
        }
      ]
    },
    {
      "cell_type": "markdown",
      "metadata": {
        "id": "7dKh4z-pMosa"
      },
      "source": [
        "## Modules and Packages:\n",
        "\n",
        "In programming, a `module` is a piece of software that has a specific functionality. For example, when building a ping pong game, one module would be responsible for the game logic, and\n",
        "another module would be responsible for drawing the game on the screen. Each module is a different python file, that can be edited separately.\n",
        "\n",
        "### Writing modules\n",
        "\n",
        "* `Modules` in Python are simply **Python files** with a `.py` extension. The name of the module will be the name of the file. \n",
        "\n",
        "* A Python module can have a set of:\n",
        "    * functions\n",
        "    * classes\n",
        "    * variables defined and implemented.\n",
        "    \n",
        "* Modules are imported from other modules using the `import` command. "
      ]
    },
    {
      "cell_type": "code",
      "metadata": {
        "id": "rSOxh9ZzMosg",
        "colab": {
          "base_uri": "https://localhost:8080/"
        },
        "outputId": "d049a97f-1fec-4fcf-ded5-5af29a40d3bb"
      },
      "source": [
        "# import module_name\n",
        "import math\n",
        "\n",
        "\n",
        "#math.sqrt(25)\n",
        "# from module_name import specific_function\n",
        "from math import sqrt \n",
        "\n",
        "\n",
        "# from [module_name] import [specific_function] as [name]\n",
        "from math import sqrt as sq\n",
        "\n",
        "\n",
        "x = math.sqrt(25)\n",
        "print(x)\n",
        "\n",
        "y = sq(25)\n",
        "print(y)"
      ],
      "execution_count": null,
      "outputs": [
        {
          "output_type": "stream",
          "text": [
            "5.0\n",
            "5.0\n"
          ],
          "name": "stdout"
        }
      ]
    },
    {
      "cell_type": "code",
      "metadata": {
        "id": "6R6NnuRiMosk",
        "colab": {
          "base_uri": "https://localhost:8080/"
        },
        "outputId": "03005659-50ea-42af-e326-559011743a13"
      },
      "source": [
        "help(math)"
      ],
      "execution_count": null,
      "outputs": [
        {
          "output_type": "stream",
          "text": [
            "Help on built-in module math:\n",
            "\n",
            "NAME\n",
            "    math\n",
            "\n",
            "DESCRIPTION\n",
            "    This module is always available.  It provides access to the\n",
            "    mathematical functions defined by the C standard.\n",
            "\n",
            "FUNCTIONS\n",
            "    acos(...)\n",
            "        acos(x)\n",
            "        \n",
            "        Return the arc cosine (measured in radians) of x.\n",
            "    \n",
            "    acosh(...)\n",
            "        acosh(x)\n",
            "        \n",
            "        Return the inverse hyperbolic cosine of x.\n",
            "    \n",
            "    asin(...)\n",
            "        asin(x)\n",
            "        \n",
            "        Return the arc sine (measured in radians) of x.\n",
            "    \n",
            "    asinh(...)\n",
            "        asinh(x)\n",
            "        \n",
            "        Return the inverse hyperbolic sine of x.\n",
            "    \n",
            "    atan(...)\n",
            "        atan(x)\n",
            "        \n",
            "        Return the arc tangent (measured in radians) of x.\n",
            "    \n",
            "    atan2(...)\n",
            "        atan2(y, x)\n",
            "        \n",
            "        Return the arc tangent (measured in radians) of y/x.\n",
            "        Unlike atan(y/x), the signs of both x and y are considered.\n",
            "    \n",
            "    atanh(...)\n",
            "        atanh(x)\n",
            "        \n",
            "        Return the inverse hyperbolic tangent of x.\n",
            "    \n",
            "    ceil(...)\n",
            "        ceil(x)\n",
            "        \n",
            "        Return the ceiling of x as an Integral.\n",
            "        This is the smallest integer >= x.\n",
            "    \n",
            "    copysign(...)\n",
            "        copysign(x, y)\n",
            "        \n",
            "        Return a float with the magnitude (absolute value) of x but the sign \n",
            "        of y. On platforms that support signed zeros, copysign(1.0, -0.0) \n",
            "        returns -1.0.\n",
            "    \n",
            "    cos(...)\n",
            "        cos(x)\n",
            "        \n",
            "        Return the cosine of x (measured in radians).\n",
            "    \n",
            "    cosh(...)\n",
            "        cosh(x)\n",
            "        \n",
            "        Return the hyperbolic cosine of x.\n",
            "    \n",
            "    degrees(...)\n",
            "        degrees(x)\n",
            "        \n",
            "        Convert angle x from radians to degrees.\n",
            "    \n",
            "    erf(...)\n",
            "        erf(x)\n",
            "        \n",
            "        Error function at x.\n",
            "    \n",
            "    erfc(...)\n",
            "        erfc(x)\n",
            "        \n",
            "        Complementary error function at x.\n",
            "    \n",
            "    exp(...)\n",
            "        exp(x)\n",
            "        \n",
            "        Return e raised to the power of x.\n",
            "    \n",
            "    expm1(...)\n",
            "        expm1(x)\n",
            "        \n",
            "        Return exp(x)-1.\n",
            "        This function avoids the loss of precision involved in the direct evaluation of exp(x)-1 for small x.\n",
            "    \n",
            "    fabs(...)\n",
            "        fabs(x)\n",
            "        \n",
            "        Return the absolute value of the float x.\n",
            "    \n",
            "    factorial(...)\n",
            "        factorial(x) -> Integral\n",
            "        \n",
            "        Find x!. Raise a ValueError if x is negative or non-integral.\n",
            "    \n",
            "    floor(...)\n",
            "        floor(x)\n",
            "        \n",
            "        Return the floor of x as an Integral.\n",
            "        This is the largest integer <= x.\n",
            "    \n",
            "    fmod(...)\n",
            "        fmod(x, y)\n",
            "        \n",
            "        Return fmod(x, y), according to platform C.  x % y may differ.\n",
            "    \n",
            "    frexp(...)\n",
            "        frexp(x)\n",
            "        \n",
            "        Return the mantissa and exponent of x, as pair (m, e).\n",
            "        m is a float and e is an int, such that x = m * 2.**e.\n",
            "        If x is 0, m and e are both 0.  Else 0.5 <= abs(m) < 1.0.\n",
            "    \n",
            "    fsum(...)\n",
            "        fsum(iterable)\n",
            "        \n",
            "        Return an accurate floating point sum of values in the iterable.\n",
            "        Assumes IEEE-754 floating point arithmetic.\n",
            "    \n",
            "    gamma(...)\n",
            "        gamma(x)\n",
            "        \n",
            "        Gamma function at x.\n",
            "    \n",
            "    gcd(...)\n",
            "        gcd(x, y) -> int\n",
            "        greatest common divisor of x and y\n",
            "    \n",
            "    hypot(...)\n",
            "        hypot(x, y)\n",
            "        \n",
            "        Return the Euclidean distance, sqrt(x*x + y*y).\n",
            "    \n",
            "    isclose(...)\n",
            "        isclose(a, b, *, rel_tol=1e-09, abs_tol=0.0) -> bool\n",
            "        \n",
            "        Determine whether two floating point numbers are close in value.\n",
            "        \n",
            "           rel_tol\n",
            "               maximum difference for being considered \"close\", relative to the\n",
            "               magnitude of the input values\n",
            "            abs_tol\n",
            "               maximum difference for being considered \"close\", regardless of the\n",
            "               magnitude of the input values\n",
            "        \n",
            "        Return True if a is close in value to b, and False otherwise.\n",
            "        \n",
            "        For the values to be considered close, the difference between them\n",
            "        must be smaller than at least one of the tolerances.\n",
            "        \n",
            "        -inf, inf and NaN behave similarly to the IEEE 754 Standard.  That\n",
            "        is, NaN is not close to anything, even itself.  inf and -inf are\n",
            "        only close to themselves.\n",
            "    \n",
            "    isfinite(...)\n",
            "        isfinite(x) -> bool\n",
            "        \n",
            "        Return True if x is neither an infinity nor a NaN, and False otherwise.\n",
            "    \n",
            "    isinf(...)\n",
            "        isinf(x) -> bool\n",
            "        \n",
            "        Return True if x is a positive or negative infinity, and False otherwise.\n",
            "    \n",
            "    isnan(...)\n",
            "        isnan(x) -> bool\n",
            "        \n",
            "        Return True if x is a NaN (not a number), and False otherwise.\n",
            "    \n",
            "    ldexp(...)\n",
            "        ldexp(x, i)\n",
            "        \n",
            "        Return x * (2**i).\n",
            "    \n",
            "    lgamma(...)\n",
            "        lgamma(x)\n",
            "        \n",
            "        Natural logarithm of absolute value of Gamma function at x.\n",
            "    \n",
            "    log(...)\n",
            "        log(x[, base])\n",
            "        \n",
            "        Return the logarithm of x to the given base.\n",
            "        If the base not specified, returns the natural logarithm (base e) of x.\n",
            "    \n",
            "    log10(...)\n",
            "        log10(x)\n",
            "        \n",
            "        Return the base 10 logarithm of x.\n",
            "    \n",
            "    log1p(...)\n",
            "        log1p(x)\n",
            "        \n",
            "        Return the natural logarithm of 1+x (base e).\n",
            "        The result is computed in a way which is accurate for x near zero.\n",
            "    \n",
            "    log2(...)\n",
            "        log2(x)\n",
            "        \n",
            "        Return the base 2 logarithm of x.\n",
            "    \n",
            "    modf(...)\n",
            "        modf(x)\n",
            "        \n",
            "        Return the fractional and integer parts of x.  Both results carry the sign\n",
            "        of x and are floats.\n",
            "    \n",
            "    pow(...)\n",
            "        pow(x, y)\n",
            "        \n",
            "        Return x**y (x to the power of y).\n",
            "    \n",
            "    radians(...)\n",
            "        radians(x)\n",
            "        \n",
            "        Convert angle x from degrees to radians.\n",
            "    \n",
            "    sin(...)\n",
            "        sin(x)\n",
            "        \n",
            "        Return the sine of x (measured in radians).\n",
            "    \n",
            "    sinh(...)\n",
            "        sinh(x)\n",
            "        \n",
            "        Return the hyperbolic sine of x.\n",
            "    \n",
            "    sqrt(...)\n",
            "        sqrt(x)\n",
            "        \n",
            "        Return the square root of x.\n",
            "    \n",
            "    tan(...)\n",
            "        tan(x)\n",
            "        \n",
            "        Return the tangent of x (measured in radians).\n",
            "    \n",
            "    tanh(...)\n",
            "        tanh(x)\n",
            "        \n",
            "        Return the hyperbolic tangent of x.\n",
            "    \n",
            "    trunc(...)\n",
            "        trunc(x:Real) -> Integral\n",
            "        \n",
            "        Truncates x to the nearest Integral toward 0. Uses the __trunc__ magic method.\n",
            "\n",
            "DATA\n",
            "    e = 2.718281828459045\n",
            "    inf = inf\n",
            "    nan = nan\n",
            "    pi = 3.141592653589793\n",
            "    tau = 6.283185307179586\n",
            "\n",
            "FILE\n",
            "    (built-in)\n",
            "\n",
            "\n"
          ],
          "name": "stdout"
        }
      ]
    },
    {
      "cell_type": "markdown",
      "metadata": {
        "id": "Ze0UcpwRMosr"
      },
      "source": [
        "### Data Science Tutorials:\n",
        "\n",
        "1. Numpy\n",
        "2. Pandas\n",
        "3. Matplotlib"
      ]
    },
    {
      "cell_type": "markdown",
      "metadata": {
        "id": "lyllRLUsMoss"
      },
      "source": [
        "### Numpy:\n",
        "\n",
        "1. Numpy arrays (1D, 2D, ..., nD)are great alternatives to Python **Lists**. Some of the key advantages of Numpy arrays are that they are fast, easy to work with, and give users the opportunity to perform **calculations** across entire arrays.\n",
        "\n",
        "2. In the following example, you will first create two Python lists. Then, you will import the numpy package and create numpy arrays out of the newly created lists."
      ]
    },
    {
      "cell_type": "code",
      "metadata": {
        "id": "QGWpyqizMost",
        "colab": {
          "base_uri": "https://localhost:8080/"
        },
        "outputId": "05893f53-846b-41c3-811f-bd514ef1007b"
      },
      "source": [
        "!pip install numpy\n",
        "#!conda install numpy"
      ],
      "execution_count": null,
      "outputs": [
        {
          "output_type": "stream",
          "text": [
            "Requirement already satisfied: numpy in /usr/local/lib/python3.6/dist-packages (1.19.5)\n"
          ],
          "name": "stdout"
        }
      ]
    },
    {
      "cell_type": "code",
      "metadata": {
        "id": "GXu9brmEMosx",
        "colab": {
          "base_uri": "https://localhost:8080/",
          "height": 201
        },
        "outputId": "03171e43-7508-41c4-ddcd-31725103229a"
      },
      "source": [
        "# list\n",
        "height = [1.87,  1.87, 1.82, 1.91, 1.90, 1.85]\n",
        "\n",
        "# add to each elemnt of the list 2\n",
        "height + 2"
      ],
      "execution_count": null,
      "outputs": [
        {
          "output_type": "error",
          "ename": "TypeError",
          "evalue": "ignored",
          "traceback": [
            "\u001b[0;31m---------------------------------------------------------------------------\u001b[0m",
            "\u001b[0;31mTypeError\u001b[0m                                 Traceback (most recent call last)",
            "\u001b[0;32m<ipython-input-46-cc2ea833dc33>\u001b[0m in \u001b[0;36m<module>\u001b[0;34m()\u001b[0m\n\u001b[1;32m      3\u001b[0m \u001b[0;34m\u001b[0m\u001b[0m\n\u001b[1;32m      4\u001b[0m \u001b[0;31m# add to each elemnt of the list 2\u001b[0m\u001b[0;34m\u001b[0m\u001b[0;34m\u001b[0m\u001b[0;34m\u001b[0m\u001b[0m\n\u001b[0;32m----> 5\u001b[0;31m \u001b[0mheight\u001b[0m \u001b[0;34m+\u001b[0m \u001b[0;36m2\u001b[0m\u001b[0;34m\u001b[0m\u001b[0;34m\u001b[0m\u001b[0m\n\u001b[0m",
            "\u001b[0;31mTypeError\u001b[0m: can only concatenate list (not \"int\") to list"
          ]
        }
      ]
    },
    {
      "cell_type": "code",
      "metadata": {
        "id": "ZG4ckjmGMosz",
        "colab": {
          "base_uri": "https://localhost:8080/"
        },
        "outputId": "822a1e96-ef9e-408d-85ff-3b248d2a6b73"
      },
      "source": [
        "import numpy as np  \n",
        "\n",
        "#np?\n",
        "\n",
        "# Create 2 new lists height and weight\n",
        "height = [1.87,  1.87, 1.82, 1.91, 1.90, 1.85]\n",
        "weight = [81.65, 97.52, 95.25, 92.98, 86.18, 88.45]\n",
        "\n",
        "#height + 1\n",
        "# \n",
        "#height + 1\n",
        "\n",
        "height_np = np.array(height)\n",
        "\n",
        "print(type(height_np))\n",
        "\n",
        "\n",
        "#type(height)\n",
        "\n",
        "\n",
        "height_np + 1"
      ],
      "execution_count": null,
      "outputs": [
        {
          "output_type": "stream",
          "text": [
            "<class 'numpy.ndarray'>\n"
          ],
          "name": "stdout"
        },
        {
          "output_type": "execute_result",
          "data": {
            "text/plain": [
              "array([2.87, 2.87, 2.82, 2.91, 2.9 , 2.85])"
            ]
          },
          "metadata": {
            "tags": []
          },
          "execution_count": 48
        }
      ]
    },
    {
      "cell_type": "markdown",
      "metadata": {
        "id": "cNoxE56DMos5"
      },
      "source": [
        "# Ex 5: \n",
        "\n",
        "1. add the values of the following two lists?"
      ]
    },
    {
      "cell_type": "code",
      "metadata": {
        "id": "gNzl0gKvMos6"
      },
      "source": [
        "# Create 2 new lists height and weight\n",
        "height = [1.87,  1.87, 1.82, 1.91, 1.90, 1.85]\n",
        "weight = [81.65, 97.52, 95.25, 92.98, 86.18, 88.45]\n",
        "\n",
        "## To Do\n",
        "#height + weight"
      ],
      "execution_count": null,
      "outputs": []
    },
    {
      "cell_type": "markdown",
      "metadata": {
        "id": "_amSrcB-Mos9"
      },
      "source": [
        "3. Element-wise calculations\n",
        "\n",
        "Now we can perform element-wise calculations on height and weight. For example, you could take all 6 of the height and weight observations above, and calculate the BMI for each observation with a single equation. These operations are very fast and computationally efficient. They are particularly helpful when you have 1000s of observations in your data."
      ]
    },
    {
      "cell_type": "code",
      "metadata": {
        "id": "jWFw-ePqMos-"
      },
      "source": [
        "# Calculate bmi Body Mass Index\n",
        "bmi = np_weight / np_height ** 2\n",
        "\n",
        "# Print the result\n",
        "print(bmi)"
      ],
      "execution_count": null,
      "outputs": []
    },
    {
      "cell_type": "markdown",
      "metadata": {
        "id": "RUppTEPYMotB"
      },
      "source": [
        "4. Subsetting\n",
        "\n",
        "Another great feature of Numpy arrays is the ability to subset. For instance, if you wanted to know which observations in our BMI array are above 23, we could quickly subset it to find out."
      ]
    },
    {
      "cell_type": "code",
      "metadata": {
        "id": "nBMVXJpJMotC"
      },
      "source": [
        "print(type(bmi))"
      ],
      "execution_count": null,
      "outputs": []
    },
    {
      "cell_type": "code",
      "metadata": {
        "id": "CLNOQ6O2MotG"
      },
      "source": [
        "bmi"
      ],
      "execution_count": null,
      "outputs": []
    },
    {
      "cell_type": "code",
      "metadata": {
        "id": "z2giE7a7MotJ"
      },
      "source": [
        "# For a boolean response\n",
        "bmi > 23\n",
        "print(bmi > 23)\n",
        "\n",
        "# Print only those observations above 23\n",
        "bmi[bmi > 23]"
      ],
      "execution_count": null,
      "outputs": []
    },
    {
      "cell_type": "markdown",
      "metadata": {
        "id": "b6IlJKoZMotN"
      },
      "source": [
        "\n",
        "## Why Pandas?\n",
        "\n",
        "1. Let's learn some of the most important `pandas` features for:\n",
        "    * exploring.\n",
        "    * cleaning.\n",
        "    * transforming\n",
        "    * visualizing.\n",
        "    * learning from data.\n",
        "\n",
        "\n",
        "2. The pandas package is the most important tool of Data Scientists and Analysts working in Python today. Pandas is the backbone of most data projects.\n",
        "\n",
        "\n",
        "3. `[pandas]` is derived from the term **panel data**, an econometrics term for data sets that include observations over multiple time periods for the same individuals. — Wikipedia.\n",
        "\n",
        "4. In this session, we will go over the essential bits of information about pandas, including how to install it, its uses, and how it works with other common Python data analysis packages such as matplotlib and scikit-learn.\n",
        "\n",
        "\n",
        "5. For example, say you want to explore a dataset stored in a CSV on your computer. Pandas will extract the data from that CSV into a DataFrame — a table, basically — then let you do things like:\n",
        "\n",
        "    * Calculate statistics and answer questions about the data, like\n",
        "        * What's the average, median, max, or min of each column?\n",
        "        * Does column A correlate with column B?\n",
        "        * What does the distribution of data in column C look like?\n",
        "        \n",
        "    * Clean the data by doing things like removing missing values and filtering rows or columns by some criteria\n",
        "    * Visualize the data with help from `Matplotlib`. Plot bars, lines, histograms, bubbles, and more.\n",
        "    * Store the cleaned, transformed data back into a CSV, other file or database\n",
        "\n",
        "6. **Pandas** is built on top of the `NumPy` package, meaning a lot of the structure of NumPy is used or replicated in Pandas. Data in pandas is often used to feed statistical analysis in `SciPy`, plotting functions from `Matplotlib`, and machine learning algorithms in `Scikit-learn`.\n",
        "\n",
        "\n"
      ]
    },
    {
      "cell_type": "markdown",
      "metadata": {
        "id": "6rgosZBwMotO"
      },
      "source": [
        "## Pandas First Steps\n",
        "\n",
        "\n",
        "### Install and import:\n",
        "\n",
        "* Pandas is an easy package to install. Open up your terminal program (for Mac users) or command line (for PC users) and install it using either of the following commands:\n",
        "\n",
        "`conda install pandas`\n",
        "\n",
        "OR\n",
        "\n",
        "`pip install pandas`\n",
        "\n",
        "* Alternatively, if you're currently viewing this article in a Jupyter notebook you can run this cell:\n",
        "\n",
        "`!pip install pandas`\n",
        "\n",
        "\n",
        "* The `!` at the beginning runs cells as if they were in a terminal.\n",
        "\n",
        "\n",
        "* To import pandas we usually import it with a shorter name since it's used so much:"
      ]
    },
    {
      "cell_type": "code",
      "metadata": {
        "id": "hIefl2CJMotP"
      },
      "source": [
        "import pandas as pd\n",
        "pd?"
      ],
      "execution_count": null,
      "outputs": []
    },
    {
      "cell_type": "markdown",
      "metadata": {
        "id": "skDreYwaMotS"
      },
      "source": [
        "## Core components of pandas: Series and DataFrames\n",
        "\n",
        "1. The primary two components of pandas are the Series and DataFrame.\n",
        "\n",
        "2. A **Series** is essentially a `column`, and a **DataFrame** is a `multi-dimensional table made up of a collection of Series`.\n"
      ]
    },
    {
      "cell_type": "code",
      "metadata": {
        "id": "xpPIvwPhMotT"
      },
      "source": [
        "from IPython.display import Image\n",
        "Image(filename='pandas.png') \n",
        "# source: https://www.learndatasci.com/tutorials/python-pandas-tutorial-complete-introduction-for-beginners/"
      ],
      "execution_count": null,
      "outputs": []
    },
    {
      "cell_type": "markdown",
      "metadata": {
        "id": "pFObo7oDMotW"
      },
      "source": [
        "1. `DataFrames` and `Series` are quite similar in that many operations that you can do with one you can do with the other, such as filling in null values and calculating the mean.\n",
        "\n",
        "\n",
        "2. You'll see how these components work when we start working with data below."
      ]
    },
    {
      "cell_type": "markdown",
      "metadata": {
        "id": "FJUd4BtLMotc"
      },
      "source": [
        "### Creating DataFrames from scratch:\n",
        "\n",
        "\n",
        "1. There are many ways to create a DataFrame from scratch, but a great option is to just use a simple **dict**.\n",
        "\n",
        "\n",
        "* Let's say we have a fruit stand that sells apples and oranges. We want to have a column for each fruit and a row for each customer purchase. To organize this as a `dictionary` for pandas we could do something like:"
      ]
    },
    {
      "cell_type": "code",
      "metadata": {
        "id": "K1GwJ0uoMotc"
      },
      "source": [
        "data = {\n",
        "    'apples': [3, 2, 0, 1], \n",
        "    'oranges': [0, 3, 7, 2]\n",
        "}\n",
        "\n"
      ],
      "execution_count": null,
      "outputs": []
    },
    {
      "cell_type": "markdown",
      "metadata": {
        "id": "i79gIrnoMotf"
      },
      "source": [
        "And then pass it to the pandas `DataFrame` constructor:"
      ]
    },
    {
      "cell_type": "code",
      "metadata": {
        "id": "tUNR8loeMoth"
      },
      "source": [
        "purchases = pd.DataFrame(data)\n",
        "\n",
        "purchases"
      ],
      "execution_count": null,
      "outputs": []
    },
    {
      "cell_type": "markdown",
      "metadata": {
        "id": "pwhMGQ4tMotj"
      },
      "source": [
        "#### How did that work?\n",
        "\n",
        "1. Each **(key, value)** item in data corresponds to a column in the resulting DataFrame.\n",
        "\n",
        "\n",
        "2. The Index of this DataFrame was given to us on creation as the numbers 0-3, but we could also create our own when we initialize the DataFrame.\n",
        "\n",
        "\n",
        "* Let's have customer names as our index:"
      ]
    },
    {
      "cell_type": "code",
      "metadata": {
        "id": "KyWIwgmsMotl"
      },
      "source": [
        "purchases = pd.DataFrame(data, index=['June', 'Robert', 'Lily', 'David'])\n",
        "\n",
        "purchases"
      ],
      "execution_count": null,
      "outputs": []
    },
    {
      "cell_type": "markdown",
      "metadata": {
        "id": "n8p2chIeMotn"
      },
      "source": [
        "So now we could **loc**ate `\"loc[]\"` a customer's order by using their name:"
      ]
    },
    {
      "cell_type": "code",
      "metadata": {
        "id": "4iOsJ_dMMoto"
      },
      "source": [
        "#purchases.to_csv(\"purchases.csv\")"
      ],
      "execution_count": null,
      "outputs": []
    },
    {
      "cell_type": "code",
      "metadata": {
        "id": "37TSN2-mMotr"
      },
      "source": [
        "purchases.loc['June'] # loc[index]"
      ],
      "execution_count": null,
      "outputs": []
    },
    {
      "cell_type": "markdown",
      "metadata": {
        "id": "2QyVfC2aMotu"
      },
      "source": [
        "* There's more on locating and extracting data from the DataFrame later, but now you should be able to create a DataFrame with any random data to learn on.\n",
        "\n",
        "* Let's move on to some quick methods for creating DataFrames from various other sources."
      ]
    },
    {
      "cell_type": "markdown",
      "metadata": {
        "id": "yxKluCPVMotv"
      },
      "source": [
        "## How to read in data\n",
        "\n",
        "* It’s quite simple to load data from various file formats into a DataFrame. In the following examples we'll keep using our apples and oranges data, but this time it's coming from various files.\n",
        "\n",
        "### Reading data from CSVs\n",
        "\n",
        "* With CSV files all you need is a single line to load in the data:"
      ]
    },
    {
      "cell_type": "code",
      "metadata": {
        "id": "0vpKbJWoMotw"
      },
      "source": [
        "purchases.to_csv(\"purchases.csv\")\n",
        "df = pd.read_csv('purchases.csv')\n",
        "df"
      ],
      "execution_count": null,
      "outputs": []
    },
    {
      "cell_type": "markdown",
      "metadata": {
        "id": "5EungKsbMot_"
      },
      "source": [
        "* CSVs **don't** have indexes like our DataFrames, so all we need to do is just designate the index_col when reading:"
      ]
    },
    {
      "cell_type": "code",
      "metadata": {
        "id": "jhmeEpO6MouA"
      },
      "source": [
        "df = pd.read_csv('purchases.csv', index_col=0)\n",
        "\n",
        "df"
      ],
      "execution_count": null,
      "outputs": []
    },
    {
      "cell_type": "markdown",
      "metadata": {
        "id": "spy3agTiMouD"
      },
      "source": [
        "* Here we're setting the index to be column **zero**.\n",
        "\n",
        "\n",
        "* You'll find that most CSVs won't ever have an index column and so usually you don't have to worry about this step."
      ]
    },
    {
      "cell_type": "markdown",
      "metadata": {
        "id": "UGtbcqEBMouF"
      },
      "source": [
        "### Reading data from JSON\n",
        "\n",
        "* If you have a JSON file — which is essentially a stored Python dict — pandas can read this just as easily:"
      ]
    },
    {
      "cell_type": "code",
      "metadata": {
        "id": "g9g5uvkzMouF"
      },
      "source": [
        "purchases.to_json(\"new.json\")"
      ],
      "execution_count": null,
      "outputs": []
    },
    {
      "cell_type": "code",
      "metadata": {
        "id": "tgD7TG_UMouI"
      },
      "source": [
        "df = pd.read_json('new.json')\n",
        "\n",
        "df"
      ],
      "execution_count": null,
      "outputs": []
    },
    {
      "cell_type": "markdown",
      "metadata": {
        "id": "I9MyXcciMouL"
      },
      "source": [
        "* Notice this time our index came with us correctly since using JSON allowed indexes to work through nesting. Feel free to open `data_file.json` in a notepad so you can see how it works."
      ]
    },
    {
      "cell_type": "markdown",
      "metadata": {
        "id": "XoNr5LFSMouM"
      },
      "source": [
        "## Reading data from a SQL database\n",
        "\n",
        "* If you’re working with data from a SQL database you need to first establish a connection using an appropriate Python library, then pass a query to pandas. Here we'll use SQLite to demonstrate.\n",
        "\n",
        "1. First, we need `pysqlite3` installed, so run this command in your terminal:\n",
        "\n",
        "`pip install pysqlite3`\n",
        "\n",
        "Or run this cell if you're in a notebook:\n",
        "\n",
        "`!pip install pysqlite3`"
      ]
    },
    {
      "cell_type": "code",
      "metadata": {
        "id": "zGdmtsuYMouN"
      },
      "source": [
        "#!pip install pysqlite3"
      ],
      "execution_count": null,
      "outputs": []
    },
    {
      "cell_type": "markdown",
      "metadata": {
        "id": "hfV7szepMouQ"
      },
      "source": [
        "`sqlite3` is used to create a connection to a database which we can then use to generate a `DataFrame` through a SELECT query.\n",
        "\n",
        "So first we'll make a connection to a SQLite database file:"
      ]
    },
    {
      "cell_type": "code",
      "metadata": {
        "id": "fEJ0YqDtMouR"
      },
      "source": [
        "# import sqlite3\n",
        "\n",
        "# con = sqlite3.connect(\"database.db\")\n"
      ],
      "execution_count": null,
      "outputs": []
    },
    {
      "cell_type": "markdown",
      "metadata": {
        "id": "SMNt8WhWMouU"
      },
      "source": [
        "In this SQLite database we have a table called purchases, and our index is in a column called \"index\".\n",
        "\n",
        "By passing a SELECT query and our con, we can read from the purchases table:"
      ]
    },
    {
      "cell_type": "code",
      "metadata": {
        "id": "pOvLuZ1IMouV"
      },
      "source": [
        "# df = pd.read_sql_query(\"SELECT * FROM purchases\", con)\n",
        "\n",
        "# df"
      ],
      "execution_count": null,
      "outputs": []
    },
    {
      "cell_type": "markdown",
      "metadata": {
        "id": "FBUl-MC5MouZ"
      },
      "source": [
        "## Converting back to a CSV, JSON, or SQL\n",
        "\n",
        "* So after extensive work on cleaning your data, you’re now ready to save it as a file of your choice. Similar to the ways we read in data, pandas provides intuitive commands to save it:"
      ]
    },
    {
      "cell_type": "code",
      "metadata": {
        "id": "ztrVeFHkMoua"
      },
      "source": [
        "df.to_csv('new_purchases.csv')\n",
        "\n",
        "df.to_json('new_purchases.json')\n",
        "\n",
        "#df.to_sql('new_purchases', con)"
      ],
      "execution_count": null,
      "outputs": []
    },
    {
      "cell_type": "markdown",
      "metadata": {
        "id": "Nvd-5HkuMouc"
      },
      "source": [
        "* When we save JSON and CSV files, all we have to input into those functions is our desired filename with the appropriate file extension. With SQL, we’re not creating a new file but instead inserting a new table into the database using our con variable from before."
      ]
    },
    {
      "cell_type": "markdown",
      "metadata": {
        "id": "1WBzZ5JzMoud"
      },
      "source": [
        "# Ex 6:\n",
        "\n",
        "1. Create random dataFrame using `dict`.\n",
        "2. save this random data as `csv`, and `json` file.\n",
        "3. read the saved `csv file` again, and set the index col.\n",
        "4. use `loc` to get the second row from your dataFrame.\n"
      ]
    },
    {
      "cell_type": "code",
      "metadata": {
        "id": "Q3RRMId3Moue"
      },
      "source": [
        "# # TO DO\n",
        "# # create dict\n",
        "# your_dicy={?}\n",
        "\n",
        "# # create df from dict\n",
        "# df = pd.DataFrame(?)\n",
        "\n",
        "# # save df as csv and json\n",
        "# ?\n",
        "# ?\n",
        "\n",
        "# # read the csv file\n",
        "# csv_file = pd.read_csv(?)\n",
        "\n",
        "# # get the second rwo\n",
        "# ?\n",
        "\n"
      ],
      "execution_count": null,
      "outputs": []
    },
    {
      "cell_type": "code",
      "metadata": {
        "id": "oraS0VhEMouh"
      },
      "source": [
        "# rand_dict = {\n",
        "#     \"Name\": [\"Mark\", \"Mahmoud\", \"Hakan\"],\n",
        "#     \"Age\": [23, 33, 44],\n",
        "    \n",
        "# }\n",
        "\n",
        "# df = pd.DataFrame(rand_dict, index=['row_1','row_2','row_3'])\n",
        "\n",
        "# df.to_csv('new_random.csv')\n",
        "\n",
        "# df.to_json('new_random.json')\n",
        "# df"
      ],
      "execution_count": null,
      "outputs": []
    },
    {
      "cell_type": "code",
      "metadata": {
        "id": "-mdzhf7bMoun"
      },
      "source": [
        "# df = pd.read_csv('new_random.csv', index_col=0)\n",
        "# df.loc[\"row_2\"]"
      ],
      "execution_count": null,
      "outputs": []
    },
    {
      "cell_type": "markdown",
      "metadata": {
        "id": "BjGNuumBMouq"
      },
      "source": [
        "## Most important DataFrame operations\n",
        "\n",
        "\n"
      ]
    },
    {
      "cell_type": "code",
      "metadata": {
        "id": "vkNoKh7pMouq",
        "scrolled": true
      },
      "source": [
        "# read csv file\n",
        "import pandas as pd\n",
        "\n",
        "movies_df = pd.read_csv(\"IMDB-Movie-Data.csv\", index_col=\"Title\")\n",
        "\n",
        "movies_df"
      ],
      "execution_count": null,
      "outputs": []
    },
    {
      "cell_type": "markdown",
      "metadata": {
        "id": "inemTyuOMouu"
      },
      "source": [
        "* We're loading this dataset from a CSV and designating the movie titles to be our index.\n",
        "\n",
        "### Viewing your data\n",
        "\n",
        "* The first thing to do when opening a new dataset is print out a few rows to keep as a visual reference. We accomplish this with `.head()`:"
      ]
    },
    {
      "cell_type": "code",
      "metadata": {
        "id": "AYmBbFbIMouu"
      },
      "source": [
        "movies_df.tail(10)"
      ],
      "execution_count": null,
      "outputs": []
    },
    {
      "cell_type": "markdown",
      "metadata": {
        "id": "xbj_sGUUMouz"
      },
      "source": [
        "* `.head()` outputs the first five rows of your DataFrame by default, but we could also pass a number as well: `movies_df.head(10)` would output the top ten rows, for example.\n",
        "\n",
        "\n",
        "* To see the last five rows use `.tail()`. tail() also accepts a number, and in this case we printing the bottom two rows.:"
      ]
    },
    {
      "cell_type": "code",
      "metadata": {
        "id": "H8gG5rTtMou0"
      },
      "source": [
        "movies_df.tail(2)\n"
      ],
      "execution_count": null,
      "outputs": []
    },
    {
      "cell_type": "markdown",
      "metadata": {
        "id": "yTM5SquVMou4"
      },
      "source": [
        "* Typically when we load in a dataset, we like to view the first five or so rows to see what's under the hood. Here we can see the names of each column, the index, and examples of values in each row.\n",
        "\n",
        "* You'll notice that the index in our DataFrame is the Title column, which you can tell by how the word Title is slightly lower than the rest of the columns.\n",
        "\n",
        "\n",
        "### Getting info about your data\n",
        "\n",
        "* `.info()` should be one of the very first commands you run after loading your data:"
      ]
    },
    {
      "cell_type": "code",
      "metadata": {
        "id": "HRTGLvxsMou4"
      },
      "source": [
        "movies_df.info()"
      ],
      "execution_count": null,
      "outputs": []
    },
    {
      "cell_type": "markdown",
      "metadata": {
        "id": "qtCvqqQ8Mou7"
      },
      "source": [
        "* `.info()` provides the essential details about your dataset, such as the number of rows and columns, the number of non-null values, what type of data is in each column, and how much memory your DataFrame is using.\n",
        "\n",
        "\n",
        "* Notice in our movies dataset we have some obvious missing values in the Revenue and Metascore columns. We'll look at how to handle those in a bit.\n",
        "\n",
        "\n",
        "* Another fast and useful attribute is `.shape`, which outputs just a tuple of (rows, columns):"
      ]
    },
    {
      "cell_type": "code",
      "metadata": {
        "id": "o_LQHV3CMou8"
      },
      "source": [
        "movies_df.shape"
      ],
      "execution_count": null,
      "outputs": []
    },
    {
      "cell_type": "markdown",
      "metadata": {
        "id": "nCnfnUT_Mou_"
      },
      "source": [
        "* Note that `.shape` has no parentheses and is a simple tuple of format **(rows, columns).** So we have `1000 rows and 11 columns` in our movies DataFrame.\n",
        "\n",
        "\n",
        "* You'll be going to .shape a lot when cleaning and transforming data. For example, you might filter some rows based on some criteria and then want to know quickly how many rows were removed.\n",
        "\n",
        "\n",
        "#### Handling duplicates\n",
        "\n",
        "\n",
        "* This dataset does not have duplicate rows, but it is always important to verify you aren't aggregating duplicate rows.\n",
        "\n",
        "\n",
        "* To demonstrate, let's simply just double up our movies DataFrame by appending it to itself:"
      ]
    },
    {
      "cell_type": "code",
      "metadata": {
        "id": "LlqCkviZMovA"
      },
      "source": [
        "temp_df = movies_df.append(movies_df)\n",
        "\n",
        "temp_df.shape"
      ],
      "execution_count": null,
      "outputs": []
    },
    {
      "cell_type": "markdown",
      "metadata": {
        "id": "Vj_QmVovMovD"
      },
      "source": [
        "* Using **append()** will return a copy without affecting the original DataFrame. We are capturing this copy in temp so we aren't working with the real data.\n",
        "\n",
        "* Notice call .shape quickly proves our DataFrame rows have doubled.\n",
        "\n",
        "* Now we can try dropping duplicates:"
      ]
    },
    {
      "cell_type": "code",
      "metadata": {
        "id": "6NOAswC9MovG"
      },
      "source": [
        "temp2_df = temp_df.drop_duplicates()\n",
        "\n",
        "temp2_df.shape"
      ],
      "execution_count": null,
      "outputs": []
    },
    {
      "cell_type": "markdown",
      "metadata": {
        "id": "kGgyFDovMovM"
      },
      "source": [
        "* Just like append(), the **drop_duplicates()** method will also return a copy of your DataFrame, but this time with duplicates removed. Calling .shape confirms we're back to the 1000 rows of our original dataset.\n",
        "\n",
        "\n",
        "* It's a little verbose to keep assigning DataFrames to the same variable like in this example. For this reason, pandas has the `inplace keyword` argument on many of its methods. Using **inplace=True** will modify the DataFrame object in place:"
      ]
    },
    {
      "cell_type": "code",
      "metadata": {
        "id": "dxXIlljVMovO"
      },
      "source": [
        "temp_df.drop_duplicates(inplace=True)\n",
        "temp_df.shape"
      ],
      "execution_count": null,
      "outputs": []
    },
    {
      "cell_type": "markdown",
      "metadata": {
        "id": "fzeAv0x1MovR"
      },
      "source": [
        "* Now our temp_df will have the transformed data automatically.\n",
        "\n",
        "* Another important argument for `drop_duplicates()` is **keep**, which has three possible options:\n",
        "\n",
        "    * first: (default) Drop duplicates except for the first occurrence.\n",
        "    * last: Drop duplicates except for the last occurrence.\n",
        "    * False: Drop all duplicates.\n",
        "\n",
        "\n",
        "* Since we didn't define the keep arugment in the previous example it was defaulted to first. This means that if two rows are the same pandas will drop the second row and keep the first row. Using last has the opposite effect: the first row is dropped.\n",
        "\n",
        "* keep, on the other hand, will drop all duplicates. If two rows are the same then both will be dropped. Watch what happens to temp_df:"
      ]
    },
    {
      "cell_type": "code",
      "metadata": {
        "id": "yy9CY9YkMovT"
      },
      "source": [
        "temp_df = movies_df.append(movies_df)  # make a new copy\n",
        "\n",
        "temp_df.drop_duplicates(inplace=True, keep=False)\n",
        "\n",
        "temp_df.shape"
      ],
      "execution_count": null,
      "outputs": []
    },
    {
      "cell_type": "markdown",
      "metadata": {
        "id": "1rSst0C7MovV"
      },
      "source": [
        "* Since all rows were duplicates, **keep=False** dropped them all resulting in zero rows being left over. If you're wondering why you would want to do this, one reason is that it allows you to locate all duplicates in your dataset. When conditional selections are shown below you'll see how to do that."
      ]
    },
    {
      "cell_type": "markdown",
      "metadata": {
        "id": "ez7bo-I2MovW"
      },
      "source": [
        "### Column cleanup\n",
        "\n",
        "* Many times datasets will have verbose column names with symbols, upper and lowercase words, spaces, and typos. To make selecting data by column name easier we can spend a little time cleaning up their names.\n",
        "\n",
        "* Here's how to print the column names of our dataset:"
      ]
    },
    {
      "cell_type": "code",
      "metadata": {
        "id": "apAYAxUlMovX"
      },
      "source": [
        "movies_df.columns"
      ],
      "execution_count": null,
      "outputs": []
    },
    {
      "cell_type": "markdown",
      "metadata": {
        "id": "qubEafphMova"
      },
      "source": [
        "* We can use the **.rename()** method to rename certain or all columns via a dict. We don't want parentheses, so let's rename those:"
      ]
    },
    {
      "cell_type": "code",
      "metadata": {
        "id": "UgTnXkUkMova"
      },
      "source": [
        "movies_df.rename(columns={\n",
        "        'Runtime (Minutes)': 'Runtime', \n",
        "        'Revenue (Millions)': 'Revenue_millions'\n",
        "    }, inplace=True)\n",
        "\n",
        "movies_df.columns"
      ],
      "execution_count": null,
      "outputs": []
    },
    {
      "cell_type": "markdown",
      "metadata": {
        "id": "7QBRWssvMovd"
      },
      "source": [
        "* Excellent. But what if we want to lowercase all names? Instead of using .rename() we could also set a list of names to the columns like so:"
      ]
    },
    {
      "cell_type": "code",
      "metadata": {
        "id": "PeYfBLPzMove"
      },
      "source": [
        "movies_df.columns = ['rank', 'genre', 'description', 'director', 'actors', 'year', 'runtime', \n",
        "                     'rating', 'votes', 'revenue_millions', 'metascore']\n",
        "\n",
        "\n",
        "movies_df.columns\n"
      ],
      "execution_count": null,
      "outputs": []
    },
    {
      "cell_type": "markdown",
      "metadata": {
        "id": "83WCa7OzMovh"
      },
      "source": [
        "* But that's too much work. Instead of just renaming each column manually we can do a **list comprehension:**"
      ]
    },
    {
      "cell_type": "code",
      "metadata": {
        "id": "IfF4Y6xgMovh"
      },
      "source": [
        "names = []\n",
        "for col in movies_df.columns:\n",
        "    names.append(col.lower())\n",
        "    \n",
        "[col.lower() for col in movies_df]"
      ],
      "execution_count": null,
      "outputs": []
    },
    {
      "cell_type": "code",
      "metadata": {
        "id": "jc-pEb89Movk"
      },
      "source": [
        "movies_df.columns = [col.lower() for col in movies_df]\n",
        "\n",
        "movies_df.columns"
      ],
      "execution_count": null,
      "outputs": []
    },
    {
      "cell_type": "markdown",
      "metadata": {
        "id": "ZnQ7zXDAMovm"
      },
      "source": [
        "* `list (and dict) comprehensions` come in handy a lot when working with pandas and data in general.\n",
        "\n",
        "\n",
        "* It's a good idea to lowercase, remove special characters, and replace spaces with underscores if you'll be working with a dataset for some time."
      ]
    },
    {
      "cell_type": "markdown",
      "metadata": {
        "id": "2DRJW88GMovn"
      },
      "source": [
        "### How to work with missing values\n",
        "\n",
        "* When exploring data, you’ll most likely encounter **missing or null values**, which are essentially placeholders for non-existent values. Most commonly you'll see Python's `None` or NumPy's `np.nan`, each of which are handled differently in some situations.\n",
        "\n",
        "\n",
        "* There are two options in dealing with nulls:\n",
        "\n",
        "    * Get rid of rows or columns with nulls\n",
        "    * Replace nulls with non-null values, a technique known as imputation\n",
        "\n",
        "\n",
        "* Let's calculate to total number of nulls in each column of our dataset. The first step is to check which cells in our DataFrame are null:"
      ]
    },
    {
      "cell_type": "code",
      "metadata": {
        "id": "LFVrkwbjMovn"
      },
      "source": [
        "movies_df.info()"
      ],
      "execution_count": null,
      "outputs": []
    },
    {
      "cell_type": "code",
      "metadata": {
        "id": "inqYEaVvMovq"
      },
      "source": [
        "movies_df.isnull()"
      ],
      "execution_count": null,
      "outputs": []
    },
    {
      "cell_type": "markdown",
      "metadata": {
        "id": "NNhovk14Movs"
      },
      "source": [
        "* Notice **isnull()** returns a DataFrame where each cell is either `True or False` depending on that cell's null status.\n",
        "\n",
        "* To count the number of nulls in each column we use an aggregate function for `summing`:"
      ]
    },
    {
      "cell_type": "code",
      "metadata": {
        "id": "XDox-LvrMovt"
      },
      "source": [
        "movies_df.isnull().sum()"
      ],
      "execution_count": null,
      "outputs": []
    },
    {
      "cell_type": "markdown",
      "metadata": {
        "id": "TmLZrWiTMovw"
      },
      "source": [
        "* **.isnull()** just by iteself isn't very useful, and is usually used in conjunction with other methods, like sum().\n",
        "\n",
        "\n",
        "* We can see now that our data has 128 missing values for revenue_millions and 64 missing values for metascore.\n",
        "\n",
        "#### Removing null values\n",
        "\n",
        "* Data Scientists and Analysts regularly face the dilemma of dropping or imputing null values, and is a decision that requires intimate knowledge of your data and its context. Overall, removing null data is only suggested if you have a small amount of missing data.\n",
        "\n",
        "* Remove nulls is pretty simple:"
      ]
    },
    {
      "cell_type": "code",
      "metadata": {
        "id": "xfnHnzfYMovw",
        "scrolled": true
      },
      "source": [
        "movies_df.dropna()\n",
        "#newdf.info()"
      ],
      "execution_count": null,
      "outputs": []
    },
    {
      "cell_type": "markdown",
      "metadata": {
        "id": "hYTfEHa2Movy"
      },
      "source": [
        "* This operation will delete any row with at least a single null value, but it will return a new DataFrame without altering the original one. You could specify `inplace=True` in this method as well.\n",
        "\n",
        "\n",
        "* So in the case of our dataset, this operation would remove 128 rows where revenue_millions is null and 64 rows where metascore is null. This obviously seems like a waste since there's perfectly good data in the other columns of those dropped rows. That's why we'll look at **imputation next.**\n",
        "\n",
        "* Other than just dropping rows, you can also drop columns with null values by setting **axis=1:**"
      ]
    },
    {
      "cell_type": "code",
      "metadata": {
        "id": "XR4fwkFZMovz",
        "scrolled": true
      },
      "source": [
        "movies_df.dropna(axis=1)"
      ],
      "execution_count": null,
      "outputs": []
    },
    {
      "cell_type": "markdown",
      "metadata": {
        "id": "ljInhTTJMov2"
      },
      "source": [
        "* In our dataset, this operation would drop the `revenue_millions` and `metascore` columns"
      ]
    },
    {
      "cell_type": "markdown",
      "metadata": {
        "id": "9t0ClFowMov2"
      },
      "source": [
        "### Imputation\n",
        "\n",
        "* Imputation is a conventional `feature engineering` technique used to keep valuable data that have null values.\n",
        "\n",
        "\n",
        "* There may be instances where dropping every row with a null value removes too big a chunk from your dataset, so instead we can impute that null with another value, usually the mean or the median of that column.\n",
        "\n",
        "\n",
        "* Let's look at imputing the missing values in the revenue_millions column. First we'll extract that column into its own variable:"
      ]
    },
    {
      "cell_type": "code",
      "metadata": {
        "id": "rZnWkFNmMov2"
      },
      "source": [
        "revenue = movies_df['revenue_millions']\n",
        "revenue\n",
        "\n",
        "metascore = movies_df['metascore']\n",
        "metscore_me = metascore.mean()\n",
        "#metscore_me\n",
        "\n",
        "metascore.fillna(metscore_me, inplace=True)\n",
        "\n",
        "movies_df.isnull().sum()\n"
      ],
      "execution_count": null,
      "outputs": []
    },
    {
      "cell_type": "markdown",
      "metadata": {
        "id": "d654KYdlMov5"
      },
      "source": [
        "* Using square brackets is the general way we select columns in a DataFrame.\n",
        "\n",
        "* If you remember back to when we created DataFrames from scratch, the keys of the dict ended up as column names. Now when we select columns of a DataFrame, we use brackets just like if we were accessing a Python dictionary.\n",
        "\n",
        "* revenue now contains a Series:"
      ]
    },
    {
      "cell_type": "code",
      "metadata": {
        "id": "1jL4ULMPMov6"
      },
      "source": [
        "revenue.head()"
      ],
      "execution_count": null,
      "outputs": []
    },
    {
      "cell_type": "markdown",
      "metadata": {
        "id": "0deY3m67Mov8"
      },
      "source": [
        "* Slightly different formatting than a DataFrame, but we still have our Title index.\n",
        "\n",
        "* We'll impute the missing values of revenue using the mean. Here's the mean value:"
      ]
    },
    {
      "cell_type": "code",
      "metadata": {
        "id": "0zGEHoNbMov8"
      },
      "source": [
        "revenue_mean = revenue.mean()\n",
        "\n",
        "revenue_mean"
      ],
      "execution_count": null,
      "outputs": []
    },
    {
      "cell_type": "markdown",
      "metadata": {
        "id": "1X4K4Km8MowA"
      },
      "source": [
        "* With the mean, let's fill the nulls using **fillna():**"
      ]
    },
    {
      "cell_type": "code",
      "metadata": {
        "id": "eGpG20u4MowB"
      },
      "source": [
        "revenue.fillna(revenue_mean, inplace=True)"
      ],
      "execution_count": null,
      "outputs": []
    },
    {
      "cell_type": "markdown",
      "metadata": {
        "id": "5kT3f0o4MowD"
      },
      "source": [
        "* We have now replaced all nulls in revenue with the mean of the column. Notice that by using `inplace=True` we have actually affected the original movies_df:"
      ]
    },
    {
      "cell_type": "code",
      "metadata": {
        "id": "IiZHBH_YMowE"
      },
      "source": [
        "movies_df.isnull().sum()\n"
      ],
      "execution_count": null,
      "outputs": []
    },
    {
      "cell_type": "markdown",
      "metadata": {
        "id": "So9vlcuvMowH"
      },
      "source": [
        "* Imputing an entire column with the same value like this is a basic example. It would be a better idea to try a more granular imputation by Genre or Director.\n",
        "\n",
        "* For example, you would find the mean of the revenue generated in each genre individually and impute the nulls in each genre with that genre's mean.\n",
        "\n",
        "* Let's now look at more ways to examine and understand the dataset.\n",
        "\n",
        "### Understanding your variables\n",
        "\n",
        "* Using **describe()** on an entire DataFrame we can get a summary of the distribution of continuous variables:"
      ]
    },
    {
      "cell_type": "code",
      "metadata": {
        "id": "YRz4ZPKRMowH"
      },
      "source": [
        "movies_df.describe()"
      ],
      "execution_count": null,
      "outputs": []
    },
    {
      "cell_type": "markdown",
      "metadata": {
        "id": "cCV2yj-RMowK"
      },
      "source": [
        "* Understanding which numbers are continuous also comes in handy when thinking about the type of plot to use to represent your data visually.\n",
        "\n",
        "* .describe() can also be used on a **categorical variable** to get the count of rows, unique count of categories, top category, and freq of top category:"
      ]
    },
    {
      "cell_type": "code",
      "metadata": {
        "id": "aEr4bIPZMowL"
      },
      "source": [
        "movies_df['genre'].describe()"
      ],
      "execution_count": null,
      "outputs": []
    },
    {
      "cell_type": "markdown",
      "metadata": {
        "id": "wpnykLL0Mowa"
      },
      "source": [
        "* This tells us that the genre column has 207 unique values, the top value is Action/Adventure/Sci-Fi, which shows up 50 times (freq).\n",
        "\n",
        "* **.value_counts()** can tell us the frequency of all values in a column:"
      ]
    },
    {
      "cell_type": "code",
      "metadata": {
        "id": "g6WnHj34Mowb"
      },
      "source": [
        "movies_df['genre'].value_counts().head(10)"
      ],
      "execution_count": null,
      "outputs": []
    },
    {
      "cell_type": "markdown",
      "metadata": {
        "id": "kgatL6YGMowf"
      },
      "source": [
        "#### Relationships between continuous variables\n",
        "\n",
        "* By using the correlation method **.corr()** we can generate the relationship between each continuous variable:"
      ]
    },
    {
      "cell_type": "code",
      "metadata": {
        "id": "Rs4P8WQlMowh"
      },
      "source": [
        "movies_df.corr()"
      ],
      "execution_count": null,
      "outputs": []
    },
    {
      "cell_type": "markdown",
      "metadata": {
        "id": "B7GLX473Mowk"
      },
      "source": [
        "* Correlation tables are a numerical representation of the bivariate relationships in the dataset.\n",
        "\n",
        "* Positive numbers indicate a positive correlation — one goes up the other goes up — and negative numbers represent an inverse correlation — one goes up the other goes down. 1.0 indicates a perfect correlation.\n",
        "\n",
        "* So looking in the first row, first column we see rank has a perfect correlation with itself, which is obvious. On the other hand, the correlation between votes and revenue_millions is 0.6. A little more interesting.\n",
        "\n",
        "* Examining bivariate relationships comes in handy when you have an outcome or dependent variable in mind and would like to see the features most correlated to the increase or decrease of the outcome. You can visually represent bivariate relationships with scatterplots (seen below in the plotting section)."
      ]
    },
    {
      "cell_type": "markdown",
      "metadata": {
        "id": "I2c8yaWKMowk"
      },
      "source": [
        "## DataFrame slicing, selecting, extracting\n",
        "\n",
        "* Up until now we've focused on some basic summaries of our data. We've learned about simple column extraction using single brackets, and we imputed null values in a column using fillna(). Below are the other methods of slicing, selecting, and extracting you'll need to use constantly.\n",
        "\n",
        "* It's important to note that, although many methods are the same, DataFrames and Series have different attributes, so you'll need be sure to know which type you are working with or else you will receive attribute errors.\n",
        "\n",
        "* Let's look at working with columns first.\n",
        "\n",
        "#### By column\n",
        "\n",
        "* You already saw how to extract a column using square brackets like this:"
      ]
    },
    {
      "cell_type": "code",
      "metadata": {
        "id": "959ccZTLMowl"
      },
      "source": [
        "genre_col = movies_df['genre']\n",
        "\n",
        "type(genre_col)"
      ],
      "execution_count": null,
      "outputs": []
    },
    {
      "cell_type": "markdown",
      "metadata": {
        "id": "Go6NhX0FMown"
      },
      "source": [
        "* This will return a **Series**. To extract a column as a DataFrame, you need to pass a list of column names. In our case that's just a single column:"
      ]
    },
    {
      "cell_type": "code",
      "metadata": {
        "id": "-BGzsatgMowo"
      },
      "source": [
        "genre_col = movies_df[['genre']]\n",
        "\n",
        "type(genre_col)"
      ],
      "execution_count": null,
      "outputs": []
    },
    {
      "cell_type": "markdown",
      "metadata": {
        "id": "rNeEGIdAMowq"
      },
      "source": [
        "* Since it's just a list, adding another column name is easy:"
      ]
    },
    {
      "cell_type": "code",
      "metadata": {
        "id": "_GH2O_HhMowq"
      },
      "source": [
        "subset = movies_df[['genre', 'rating']]\n",
        "\n",
        "subset.head()"
      ],
      "execution_count": null,
      "outputs": []
    },
    {
      "cell_type": "markdown",
      "metadata": {
        "id": "S6InA2EyMowt"
      },
      "source": [
        "* Now we'll look at getting data by rows.\n",
        "\n",
        "#### By rows\n",
        "\n",
        "* For rows, we have two options:\n",
        "\n",
        "    * **.loc** - locates by name\n",
        "    * **.iloc**- locates by numerical index\n",
        "\n",
        "* Remember that we are still indexed by movie Title, so to use .loc we give it the Title of a movie:\n",
        "\n"
      ]
    },
    {
      "cell_type": "code",
      "metadata": {
        "id": "Nh8W69ttMowu"
      },
      "source": [
        "prom = movies_df.loc[\"Prometheus\"]\n",
        "\n",
        "prom\n"
      ],
      "execution_count": null,
      "outputs": []
    },
    {
      "cell_type": "markdown",
      "metadata": {
        "id": "iiJW_X2AMoww"
      },
      "source": [
        "* On the other hand, with iloc we give it the numerical index of Prometheus:"
      ]
    },
    {
      "cell_type": "code",
      "metadata": {
        "id": "GcLmWTiQMowx"
      },
      "source": [
        "prom = movies_df.iloc[1]\n",
        "prom"
      ],
      "execution_count": null,
      "outputs": []
    },
    {
      "cell_type": "markdown",
      "metadata": {
        "id": "AVfDni-CMowz"
      },
      "source": [
        "* loc and iloc can be thought of as similar to Python list slicing. To show this even further, let's select multiple rows.\n",
        "\n",
        "\n",
        "* How would you do it with a list? In Python, just slice with brackets like example_list[1:4]. It's works the same way in pandas:"
      ]
    },
    {
      "cell_type": "code",
      "metadata": {
        "id": "leiBp-QLMowz"
      },
      "source": [
        "movie_subset = movies_df.loc['Prometheus':'Sing']\n",
        "\n",
        "movie_subset = movies_df.iloc[1:4]\n",
        "\n",
        "movie_subset"
      ],
      "execution_count": null,
      "outputs": []
    },
    {
      "cell_type": "markdown",
      "metadata": {
        "id": "dyNSPuV3Mow2"
      },
      "source": [
        "* One important distinction between using .loc and .iloc to select multiple rows is that .locincludes the movie Sing in the result, but when using .iloc we're getting rows 1:4 but the movie at index 4 (Suicide Squad) is not included.\n",
        "\n",
        "* Slicing with .iloc follows the same rules as slicing with lists, the object at the index at the end is not included.\n",
        "\n",
        "\n",
        "#### Conditional selections\n",
        "\n",
        "* We’ve gone over how to select columns and rows, but what if we want to make a conditional selection?\n",
        "\n",
        "\n",
        "* For example, what if we want to filter our movies DataFrame to show only films directed by Ridley Scott or films with a rating greater than or equal to 8.0?\n",
        "\n",
        "\n",
        "* To do that, we take a column from the DataFrame and apply a Boolean condition to it. Here's an example of a Boolean condition:"
      ]
    },
    {
      "cell_type": "code",
      "metadata": {
        "id": "c1u0koEdMow3"
      },
      "source": [
        "condition = (movies_df['director'] == \"Ridley Scott\")\n",
        "\n",
        "condition.head()"
      ],
      "execution_count": null,
      "outputs": []
    },
    {
      "cell_type": "markdown",
      "metadata": {
        "id": "fhM-WiM6Mow4"
      },
      "source": [
        "* Similar to isnull(), this returns a Series of True and False values: True for films directed by Ridley Scott and False for ones not directed by him.\n",
        "\n",
        "* We want to filter out all movies not directed by Ridley Scott, in other words, we don’t want the False films. To return the rows where that condition is True we have to pass this operation into the DataFrame:"
      ]
    },
    {
      "cell_type": "code",
      "metadata": {
        "id": "Y0XnumwRMow5",
        "scrolled": true
      },
      "source": [
        "movies_df[movies_df['director'] == \"Ridley Scott\"]"
      ],
      "execution_count": null,
      "outputs": []
    },
    {
      "cell_type": "markdown",
      "metadata": {
        "id": "WkoSGXMHMow8"
      },
      "source": [
        "* You can get used to looking at these conditionals by reading it like: **Select movies_df where movies_df director equals Ridley Scott.**\n",
        "\n",
        "\n",
        "* Let's look at conditional selections using numerical values by filtering the DataFrame by ratings:"
      ]
    },
    {
      "cell_type": "code",
      "metadata": {
        "id": "6eZJSrE-Mow9"
      },
      "source": [
        "movies_df[movies_df['rating'] >= 8.6].head(3)"
      ],
      "execution_count": null,
      "outputs": []
    },
    {
      "cell_type": "markdown",
      "metadata": {
        "id": "iblH8_xvMow_"
      },
      "source": [
        "* We can make some richer conditionals by using logical operators **| for \"or\" and & for \"and\"**.\n",
        "\n",
        "* Let's filter the the DataFrame to show only movies by Christopher Nolan OR Ridley Scott:"
      ]
    },
    {
      "cell_type": "code",
      "metadata": {
        "id": "UkWJlPiyMow_",
        "scrolled": true
      },
      "source": [
        "movies_df[(movies_df['director'] == 'Christopher Nolan') | \\\n",
        "          (movies_df['director'] == 'Ridley Scott')].head()"
      ],
      "execution_count": null,
      "outputs": []
    },
    {
      "cell_type": "markdown",
      "metadata": {
        "id": "4I_a8IJnMoxC"
      },
      "source": [
        "* We need to make sure to group evaluations with parentheses so Python knows how to evaluate the conditional.\n",
        "\n",
        "* Using the **isin()** method we could make this more concise though:"
      ]
    },
    {
      "cell_type": "code",
      "metadata": {
        "id": "5OzBjkQmMoxD"
      },
      "source": [
        "movies_df[movies_df['director'].isin(['Christopher Nolan', 'Ridley Scott'])].head()"
      ],
      "execution_count": null,
      "outputs": []
    },
    {
      "cell_type": "markdown",
      "metadata": {
        "id": "Ipl8AgkFMoxG"
      },
      "source": [
        "* Let's say we want all movies that were released between 2005 and 2010, have a rating above 8.0, but made below the 25th percentile in revenue.\n",
        "\n",
        "* Here's how we could do all of that:"
      ]
    },
    {
      "cell_type": "code",
      "metadata": {
        "id": "LzRfryiAMoxJ"
      },
      "source": [
        "movies_df[\n",
        "    ((movies_df['year'] >= 2005) & (movies_df['year'] <= 2010))\n",
        "    & (movies_df['rating'] > 8.0)\n",
        "    & (movies_df['revenue_millions'] < movies_df['revenue_millions'].quantile(0.25))\n",
        "]"
      ],
      "execution_count": null,
      "outputs": []
    },
    {
      "cell_type": "markdown",
      "metadata": {
        "id": "CaSPVZsIMoxL"
      },
      "source": [
        "* If you recall up when we used .describe() the 25th percentile for revenue was about 17.4, and we can access this value directly by using the quantile() method with a float of 0.25.\n",
        "\n",
        "* So here we have only four movies that match that criteria.\n",
        "\n",
        "### Applying functions\n",
        "\n",
        "* It is possible to iterate over a DataFrame or Series as you would with a list, but doing so — especially on large datasets — is very slow.\n",
        "\n",
        "\n",
        "* An efficient alternative is to **apply()** a function to the dataset. For example, we could use a function to convert movies with an 8.0 or greater to a string value of \"good\" and the rest to \"bad\" and use this transformed values to create a new column.\n",
        "\n",
        "\n",
        "* First we would create a function that, when given a rating, determines if it's good or bad:"
      ]
    },
    {
      "cell_type": "code",
      "metadata": {
        "id": "BCtJRUjEMoxM"
      },
      "source": [
        "def rating_function(x):\n",
        "    if x >= 8.0:\n",
        "        return \"good\"\n",
        "    else:\n",
        "        return \"bad\""
      ],
      "execution_count": null,
      "outputs": []
    },
    {
      "cell_type": "markdown",
      "metadata": {
        "id": "NP-OVhP9MoxO"
      },
      "source": [
        "* Now we want to send the entire rating column through this function, which is what `apply()` does:"
      ]
    },
    {
      "cell_type": "code",
      "metadata": {
        "id": "PGwYzPcQMoxP"
      },
      "source": [
        "movies_df[\"rating_category\"] = movies_df[\"rating\"].apply(rating_function)\n",
        "\n",
        "movies_df.head(2)"
      ],
      "execution_count": null,
      "outputs": []
    },
    {
      "cell_type": "markdown",
      "metadata": {
        "id": "xChWp2lfMoxS"
      },
      "source": [
        "* The .apply() method passes every value in the rating column through the rating_function and then returns a new Series. This Series is then assigned to a new column called rating_category.\n",
        "\n",
        "* You can also use anonymous functions as well. This lambda function achieves the same result as rating_function:"
      ]
    },
    {
      "cell_type": "code",
      "metadata": {
        "id": "icOFHHRzMoxT"
      },
      "source": [
        "movies_df[\"rating_category\"] = movies_df[\"rating\"].apply(lambda x: 'good' if x >= 8.0 else 'bad')\n",
        "\n",
        "movies_df.head(2)"
      ],
      "execution_count": null,
      "outputs": []
    },
    {
      "cell_type": "markdown",
      "metadata": {
        "id": "5hrRiePZMoxW"
      },
      "source": [
        "* Overall, using apply() will be much faster than iterating manually over rows because pandas is utilizing **vectorization.**\n",
        "\n",
        "* **Vectorization:** a style of computer programming where operations are applied to whole arrays instead of individual elements"
      ]
    },
    {
      "cell_type": "markdown",
      "metadata": {
        "id": "MHIFnVHoMoxW"
      },
      "source": [
        "# Pandas Profiling"
      ]
    },
    {
      "cell_type": "markdown",
      "metadata": {
        "id": "4WJFskPsMoxX"
      },
      "source": [
        "* Generates profile reports from a pandas `DataFrame`. The pandas `df.describe()` function is great but a little basic for serious exploratory data analysis. `pandas_profiling` extends the pandas DataFrame with [df.profile_report()](https://github.com/pandas-profiling/pandas-profiling) for quick data analysis.\n",
        "\n",
        "* `!pip install pandas_profiling`"
      ]
    },
    {
      "cell_type": "code",
      "metadata": {
        "id": "sbKbB-EwMoxY"
      },
      "source": [
        "import numpy as np\n",
        "import pandas as pd\n",
        "from pandas_profiling import ProfileReport\n",
        "\n",
        "df = pd.DataFrame(\n",
        "    np.random.rand(100, 5),\n",
        "    columns=['a', 'b', 'c', 'd', 'e']\n",
        ")\n",
        "\n",
        "profile = ProfileReport(df, title='Pandas Profiling Report', html={'style':{'full_width':True}})\n",
        "\n",
        "profile"
      ],
      "execution_count": null,
      "outputs": []
    }
  ]
}